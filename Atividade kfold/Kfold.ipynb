{
  "nbformat": 4,
  "nbformat_minor": 0,
  "metadata": {
    "colab": {
      "provenance": []
    },
    "kernelspec": {
      "name": "python3",
      "display_name": "Python 3"
    },
    "language_info": {
      "name": "python"
    }
  },
  "cells": [
    {
      "cell_type": "code",
      "execution_count": 49,
      "metadata": {
        "id": "9sMQKKDGU0FU"
      },
      "outputs": [],
      "source": [
        "import pandas as pd\n",
        "import numpy as np\n",
        "from sklearn.model_selection import StratifiedKFold\n",
        "from sklearn.preprocessing import StandardScaler\n",
        "from sklearn.tree import DecisionTreeClassifier\n",
        "from sklearn.tree import DecisionTreeClassifier\n",
        "from sklearn.model_selection import train_test_split"
      ]
    },
    {
      "cell_type": "code",
      "source": [
        "from google.colab import drive\n",
        "drive.mount('/content/drive')"
      ],
      "metadata": {
        "colab": {
          "base_uri": "https://localhost:8080/"
        },
        "id": "uZGYgO0RVv6F",
        "outputId": "3133a12e-a115-4667-b5f3-48f64bbe3c2c"
      },
      "execution_count": 50,
      "outputs": [
        {
          "output_type": "stream",
          "name": "stdout",
          "text": [
            "Drive already mounted at /content/drive; to attempt to forcibly remount, call drive.mount(\"/content/drive\", force_remount=True).\n"
          ]
        }
      ]
    },
    {
      "cell_type": "code",
      "source": [
        "df = pd.read_csv('/content/drive/MyDrive/Datasets/Breast_cancer/dataR2.csv')"
      ],
      "metadata": {
        "id": "phIcBofFXq3l"
      },
      "execution_count": 51,
      "outputs": []
    },
    {
      "cell_type": "code",
      "source": [
        "df.head()"
      ],
      "metadata": {
        "colab": {
          "base_uri": "https://localhost:8080/",
          "height": 206
        },
        "id": "9cADyV0jXymm",
        "outputId": "a9802c92-ceb2-4294-ca39-bc4e55f899b7"
      },
      "execution_count": 52,
      "outputs": [
        {
          "output_type": "execute_result",
          "data": {
            "text/plain": [
              "   Age        BMI  Glucose  Insulin      HOMA   Leptin  Adiponectin  Resistin  \\\n",
              "0   48  23.500000       70    2.707  0.467409   8.8071     9.702400   7.99585   \n",
              "1   83  20.690495       92    3.115  0.706897   8.8438     5.429285   4.06405   \n",
              "2   82  23.124670       91    4.498  1.009651  17.9393    22.432040   9.27715   \n",
              "3   68  21.367521       77    3.226  0.612725   9.8827     7.169560  12.76600   \n",
              "4   86  21.111111       92    3.549  0.805386   6.6994     4.819240  10.57635   \n",
              "\n",
              "     MCP.1  Classification  \n",
              "0  417.114               1  \n",
              "1  468.786               1  \n",
              "2  554.697               1  \n",
              "3  928.220               1  \n",
              "4  773.920               1  "
            ],
            "text/html": [
              "\n",
              "  <div id=\"df-a4dcfa26-3544-4bb7-a9c6-ea496339f313\">\n",
              "    <div class=\"colab-df-container\">\n",
              "      <div>\n",
              "<style scoped>\n",
              "    .dataframe tbody tr th:only-of-type {\n",
              "        vertical-align: middle;\n",
              "    }\n",
              "\n",
              "    .dataframe tbody tr th {\n",
              "        vertical-align: top;\n",
              "    }\n",
              "\n",
              "    .dataframe thead th {\n",
              "        text-align: right;\n",
              "    }\n",
              "</style>\n",
              "<table border=\"1\" class=\"dataframe\">\n",
              "  <thead>\n",
              "    <tr style=\"text-align: right;\">\n",
              "      <th></th>\n",
              "      <th>Age</th>\n",
              "      <th>BMI</th>\n",
              "      <th>Glucose</th>\n",
              "      <th>Insulin</th>\n",
              "      <th>HOMA</th>\n",
              "      <th>Leptin</th>\n",
              "      <th>Adiponectin</th>\n",
              "      <th>Resistin</th>\n",
              "      <th>MCP.1</th>\n",
              "      <th>Classification</th>\n",
              "    </tr>\n",
              "  </thead>\n",
              "  <tbody>\n",
              "    <tr>\n",
              "      <th>0</th>\n",
              "      <td>48</td>\n",
              "      <td>23.500000</td>\n",
              "      <td>70</td>\n",
              "      <td>2.707</td>\n",
              "      <td>0.467409</td>\n",
              "      <td>8.8071</td>\n",
              "      <td>9.702400</td>\n",
              "      <td>7.99585</td>\n",
              "      <td>417.114</td>\n",
              "      <td>1</td>\n",
              "    </tr>\n",
              "    <tr>\n",
              "      <th>1</th>\n",
              "      <td>83</td>\n",
              "      <td>20.690495</td>\n",
              "      <td>92</td>\n",
              "      <td>3.115</td>\n",
              "      <td>0.706897</td>\n",
              "      <td>8.8438</td>\n",
              "      <td>5.429285</td>\n",
              "      <td>4.06405</td>\n",
              "      <td>468.786</td>\n",
              "      <td>1</td>\n",
              "    </tr>\n",
              "    <tr>\n",
              "      <th>2</th>\n",
              "      <td>82</td>\n",
              "      <td>23.124670</td>\n",
              "      <td>91</td>\n",
              "      <td>4.498</td>\n",
              "      <td>1.009651</td>\n",
              "      <td>17.9393</td>\n",
              "      <td>22.432040</td>\n",
              "      <td>9.27715</td>\n",
              "      <td>554.697</td>\n",
              "      <td>1</td>\n",
              "    </tr>\n",
              "    <tr>\n",
              "      <th>3</th>\n",
              "      <td>68</td>\n",
              "      <td>21.367521</td>\n",
              "      <td>77</td>\n",
              "      <td>3.226</td>\n",
              "      <td>0.612725</td>\n",
              "      <td>9.8827</td>\n",
              "      <td>7.169560</td>\n",
              "      <td>12.76600</td>\n",
              "      <td>928.220</td>\n",
              "      <td>1</td>\n",
              "    </tr>\n",
              "    <tr>\n",
              "      <th>4</th>\n",
              "      <td>86</td>\n",
              "      <td>21.111111</td>\n",
              "      <td>92</td>\n",
              "      <td>3.549</td>\n",
              "      <td>0.805386</td>\n",
              "      <td>6.6994</td>\n",
              "      <td>4.819240</td>\n",
              "      <td>10.57635</td>\n",
              "      <td>773.920</td>\n",
              "      <td>1</td>\n",
              "    </tr>\n",
              "  </tbody>\n",
              "</table>\n",
              "</div>\n",
              "      <button class=\"colab-df-convert\" onclick=\"convertToInteractive('df-a4dcfa26-3544-4bb7-a9c6-ea496339f313')\"\n",
              "              title=\"Convert this dataframe to an interactive table.\"\n",
              "              style=\"display:none;\">\n",
              "        \n",
              "  <svg xmlns=\"http://www.w3.org/2000/svg\" height=\"24px\"viewBox=\"0 0 24 24\"\n",
              "       width=\"24px\">\n",
              "    <path d=\"M0 0h24v24H0V0z\" fill=\"none\"/>\n",
              "    <path d=\"M18.56 5.44l.94 2.06.94-2.06 2.06-.94-2.06-.94-.94-2.06-.94 2.06-2.06.94zm-11 1L8.5 8.5l.94-2.06 2.06-.94-2.06-.94L8.5 2.5l-.94 2.06-2.06.94zm10 10l.94 2.06.94-2.06 2.06-.94-2.06-.94-.94-2.06-.94 2.06-2.06.94z\"/><path d=\"M17.41 7.96l-1.37-1.37c-.4-.4-.92-.59-1.43-.59-.52 0-1.04.2-1.43.59L10.3 9.45l-7.72 7.72c-.78.78-.78 2.05 0 2.83L4 21.41c.39.39.9.59 1.41.59.51 0 1.02-.2 1.41-.59l7.78-7.78 2.81-2.81c.8-.78.8-2.07 0-2.86zM5.41 20L4 18.59l7.72-7.72 1.47 1.35L5.41 20z\"/>\n",
              "  </svg>\n",
              "      </button>\n",
              "      \n",
              "  <style>\n",
              "    .colab-df-container {\n",
              "      display:flex;\n",
              "      flex-wrap:wrap;\n",
              "      gap: 12px;\n",
              "    }\n",
              "\n",
              "    .colab-df-convert {\n",
              "      background-color: #E8F0FE;\n",
              "      border: none;\n",
              "      border-radius: 50%;\n",
              "      cursor: pointer;\n",
              "      display: none;\n",
              "      fill: #1967D2;\n",
              "      height: 32px;\n",
              "      padding: 0 0 0 0;\n",
              "      width: 32px;\n",
              "    }\n",
              "\n",
              "    .colab-df-convert:hover {\n",
              "      background-color: #E2EBFA;\n",
              "      box-shadow: 0px 1px 2px rgba(60, 64, 67, 0.3), 0px 1px 3px 1px rgba(60, 64, 67, 0.15);\n",
              "      fill: #174EA6;\n",
              "    }\n",
              "\n",
              "    [theme=dark] .colab-df-convert {\n",
              "      background-color: #3B4455;\n",
              "      fill: #D2E3FC;\n",
              "    }\n",
              "\n",
              "    [theme=dark] .colab-df-convert:hover {\n",
              "      background-color: #434B5C;\n",
              "      box-shadow: 0px 1px 3px 1px rgba(0, 0, 0, 0.15);\n",
              "      filter: drop-shadow(0px 1px 2px rgba(0, 0, 0, 0.3));\n",
              "      fill: #FFFFFF;\n",
              "    }\n",
              "  </style>\n",
              "\n",
              "      <script>\n",
              "        const buttonEl =\n",
              "          document.querySelector('#df-a4dcfa26-3544-4bb7-a9c6-ea496339f313 button.colab-df-convert');\n",
              "        buttonEl.style.display =\n",
              "          google.colab.kernel.accessAllowed ? 'block' : 'none';\n",
              "\n",
              "        async function convertToInteractive(key) {\n",
              "          const element = document.querySelector('#df-a4dcfa26-3544-4bb7-a9c6-ea496339f313');\n",
              "          const dataTable =\n",
              "            await google.colab.kernel.invokeFunction('convertToInteractive',\n",
              "                                                     [key], {});\n",
              "          if (!dataTable) return;\n",
              "\n",
              "          const docLinkHtml = 'Like what you see? Visit the ' +\n",
              "            '<a target=\"_blank\" href=https://colab.research.google.com/notebooks/data_table.ipynb>data table notebook</a>'\n",
              "            + ' to learn more about interactive tables.';\n",
              "          element.innerHTML = '';\n",
              "          dataTable['output_type'] = 'display_data';\n",
              "          await google.colab.output.renderOutput(dataTable, element);\n",
              "          const docLink = document.createElement('div');\n",
              "          docLink.innerHTML = docLinkHtml;\n",
              "          element.appendChild(docLink);\n",
              "        }\n",
              "      </script>\n",
              "    </div>\n",
              "  </div>\n",
              "  "
            ]
          },
          "metadata": {},
          "execution_count": 52
        }
      ]
    },
    {
      "cell_type": "code",
      "source": [
        "df.columns"
      ],
      "metadata": {
        "colab": {
          "base_uri": "https://localhost:8080/"
        },
        "id": "Xylo64LAX0vj",
        "outputId": "0fb860ec-b8ef-495b-ba7c-e3ba3fbd47c3"
      },
      "execution_count": 53,
      "outputs": [
        {
          "output_type": "execute_result",
          "data": {
            "text/plain": [
              "Index(['Age', 'BMI', 'Glucose', 'Insulin', 'HOMA', 'Leptin', 'Adiponectin',\n",
              "       'Resistin', 'MCP.1', 'Classification'],\n",
              "      dtype='object')"
            ]
          },
          "metadata": {},
          "execution_count": 53
        }
      ]
    },
    {
      "cell_type": "code",
      "source": [
        "df.info()"
      ],
      "metadata": {
        "colab": {
          "base_uri": "https://localhost:8080/"
        },
        "id": "88priVkuZEmK",
        "outputId": "ad73ce57-06d1-42e0-c5f6-a579adf29975"
      },
      "execution_count": 54,
      "outputs": [
        {
          "output_type": "stream",
          "name": "stdout",
          "text": [
            "<class 'pandas.core.frame.DataFrame'>\n",
            "RangeIndex: 116 entries, 0 to 115\n",
            "Data columns (total 10 columns):\n",
            " #   Column          Non-Null Count  Dtype  \n",
            "---  ------          --------------  -----  \n",
            " 0   Age             116 non-null    int64  \n",
            " 1   BMI             116 non-null    float64\n",
            " 2   Glucose         116 non-null    int64  \n",
            " 3   Insulin         116 non-null    float64\n",
            " 4   HOMA            116 non-null    float64\n",
            " 5   Leptin          116 non-null    float64\n",
            " 6   Adiponectin     116 non-null    float64\n",
            " 7   Resistin        116 non-null    float64\n",
            " 8   MCP.1           116 non-null    float64\n",
            " 9   Classification  116 non-null    int64  \n",
            "dtypes: float64(7), int64(3)\n",
            "memory usage: 9.2 KB\n"
          ]
        }
      ]
    },
    {
      "cell_type": "code",
      "source": [
        "df.isnull().sum()"
      ],
      "metadata": {
        "colab": {
          "base_uri": "https://localhost:8080/"
        },
        "id": "nsS-X5YnZKfk",
        "outputId": "7cf50ce9-3af5-48cd-bf14-7baeb0fa5a0d"
      },
      "execution_count": 55,
      "outputs": [
        {
          "output_type": "execute_result",
          "data": {
            "text/plain": [
              "Age               0\n",
              "BMI               0\n",
              "Glucose           0\n",
              "Insulin           0\n",
              "HOMA              0\n",
              "Leptin            0\n",
              "Adiponectin       0\n",
              "Resistin          0\n",
              "MCP.1             0\n",
              "Classification    0\n",
              "dtype: int64"
            ]
          },
          "metadata": {},
          "execution_count": 55
        }
      ]
    },
    {
      "cell_type": "code",
      "source": [
        "df_x = df.drop(['Classification'],axis=1)\n",
        "df_y = df['Classification']"
      ],
      "metadata": {
        "id": "6b6IU7ZUbZzE"
      },
      "execution_count": 56,
      "outputs": []
    },
    {
      "cell_type": "code",
      "source": [
        "df.corr()"
      ],
      "metadata": {
        "colab": {
          "base_uri": "https://localhost:8080/",
          "height": 363
        },
        "id": "cNLEwewRdE-J",
        "outputId": "05debeff-48fe-4028-94ac-7e8167bfa57e"
      },
      "execution_count": 57,
      "outputs": [
        {
          "output_type": "execute_result",
          "data": {
            "text/plain": [
              "                     Age       BMI   Glucose   Insulin      HOMA    Leptin  \\\n",
              "Age             1.000000  0.008530  0.230106  0.032495  0.127033  0.102626   \n",
              "BMI             0.008530  1.000000  0.138845  0.145295  0.114480  0.569593   \n",
              "Glucose         0.230106  0.138845  1.000000  0.504653  0.696212  0.305080   \n",
              "Insulin         0.032495  0.145295  0.504653  1.000000  0.932198  0.301462   \n",
              "HOMA            0.127033  0.114480  0.696212  0.932198  1.000000  0.327210   \n",
              "Leptin          0.102626  0.569593  0.305080  0.301462  0.327210  1.000000   \n",
              "Adiponectin    -0.219813 -0.302735 -0.122121 -0.031296 -0.056337 -0.095389   \n",
              "Resistin        0.002742  0.195350  0.291327  0.146731  0.231101  0.256234   \n",
              "MCP.1           0.013462  0.224038  0.264879  0.174356  0.259529  0.014009   \n",
              "Classification -0.043555 -0.132586  0.384315  0.276804  0.284012 -0.001078   \n",
              "\n",
              "                Adiponectin  Resistin     MCP.1  Classification  \n",
              "Age               -0.219813  0.002742  0.013462       -0.043555  \n",
              "BMI               -0.302735  0.195350  0.224038       -0.132586  \n",
              "Glucose           -0.122121  0.291327  0.264879        0.384315  \n",
              "Insulin           -0.031296  0.146731  0.174356        0.276804  \n",
              "HOMA              -0.056337  0.231101  0.259529        0.284012  \n",
              "Leptin            -0.095389  0.256234  0.014009       -0.001078  \n",
              "Adiponectin        1.000000 -0.252363 -0.200694       -0.019490  \n",
              "Resistin          -0.252363  1.000000  0.366474        0.227310  \n",
              "MCP.1             -0.200694  0.366474  1.000000        0.091381  \n",
              "Classification    -0.019490  0.227310  0.091381        1.000000  "
            ],
            "text/html": [
              "\n",
              "  <div id=\"df-e45bfdce-e840-4aa5-bd97-cdacd0b3f058\">\n",
              "    <div class=\"colab-df-container\">\n",
              "      <div>\n",
              "<style scoped>\n",
              "    .dataframe tbody tr th:only-of-type {\n",
              "        vertical-align: middle;\n",
              "    }\n",
              "\n",
              "    .dataframe tbody tr th {\n",
              "        vertical-align: top;\n",
              "    }\n",
              "\n",
              "    .dataframe thead th {\n",
              "        text-align: right;\n",
              "    }\n",
              "</style>\n",
              "<table border=\"1\" class=\"dataframe\">\n",
              "  <thead>\n",
              "    <tr style=\"text-align: right;\">\n",
              "      <th></th>\n",
              "      <th>Age</th>\n",
              "      <th>BMI</th>\n",
              "      <th>Glucose</th>\n",
              "      <th>Insulin</th>\n",
              "      <th>HOMA</th>\n",
              "      <th>Leptin</th>\n",
              "      <th>Adiponectin</th>\n",
              "      <th>Resistin</th>\n",
              "      <th>MCP.1</th>\n",
              "      <th>Classification</th>\n",
              "    </tr>\n",
              "  </thead>\n",
              "  <tbody>\n",
              "    <tr>\n",
              "      <th>Age</th>\n",
              "      <td>1.000000</td>\n",
              "      <td>0.008530</td>\n",
              "      <td>0.230106</td>\n",
              "      <td>0.032495</td>\n",
              "      <td>0.127033</td>\n",
              "      <td>0.102626</td>\n",
              "      <td>-0.219813</td>\n",
              "      <td>0.002742</td>\n",
              "      <td>0.013462</td>\n",
              "      <td>-0.043555</td>\n",
              "    </tr>\n",
              "    <tr>\n",
              "      <th>BMI</th>\n",
              "      <td>0.008530</td>\n",
              "      <td>1.000000</td>\n",
              "      <td>0.138845</td>\n",
              "      <td>0.145295</td>\n",
              "      <td>0.114480</td>\n",
              "      <td>0.569593</td>\n",
              "      <td>-0.302735</td>\n",
              "      <td>0.195350</td>\n",
              "      <td>0.224038</td>\n",
              "      <td>-0.132586</td>\n",
              "    </tr>\n",
              "    <tr>\n",
              "      <th>Glucose</th>\n",
              "      <td>0.230106</td>\n",
              "      <td>0.138845</td>\n",
              "      <td>1.000000</td>\n",
              "      <td>0.504653</td>\n",
              "      <td>0.696212</td>\n",
              "      <td>0.305080</td>\n",
              "      <td>-0.122121</td>\n",
              "      <td>0.291327</td>\n",
              "      <td>0.264879</td>\n",
              "      <td>0.384315</td>\n",
              "    </tr>\n",
              "    <tr>\n",
              "      <th>Insulin</th>\n",
              "      <td>0.032495</td>\n",
              "      <td>0.145295</td>\n",
              "      <td>0.504653</td>\n",
              "      <td>1.000000</td>\n",
              "      <td>0.932198</td>\n",
              "      <td>0.301462</td>\n",
              "      <td>-0.031296</td>\n",
              "      <td>0.146731</td>\n",
              "      <td>0.174356</td>\n",
              "      <td>0.276804</td>\n",
              "    </tr>\n",
              "    <tr>\n",
              "      <th>HOMA</th>\n",
              "      <td>0.127033</td>\n",
              "      <td>0.114480</td>\n",
              "      <td>0.696212</td>\n",
              "      <td>0.932198</td>\n",
              "      <td>1.000000</td>\n",
              "      <td>0.327210</td>\n",
              "      <td>-0.056337</td>\n",
              "      <td>0.231101</td>\n",
              "      <td>0.259529</td>\n",
              "      <td>0.284012</td>\n",
              "    </tr>\n",
              "    <tr>\n",
              "      <th>Leptin</th>\n",
              "      <td>0.102626</td>\n",
              "      <td>0.569593</td>\n",
              "      <td>0.305080</td>\n",
              "      <td>0.301462</td>\n",
              "      <td>0.327210</td>\n",
              "      <td>1.000000</td>\n",
              "      <td>-0.095389</td>\n",
              "      <td>0.256234</td>\n",
              "      <td>0.014009</td>\n",
              "      <td>-0.001078</td>\n",
              "    </tr>\n",
              "    <tr>\n",
              "      <th>Adiponectin</th>\n",
              "      <td>-0.219813</td>\n",
              "      <td>-0.302735</td>\n",
              "      <td>-0.122121</td>\n",
              "      <td>-0.031296</td>\n",
              "      <td>-0.056337</td>\n",
              "      <td>-0.095389</td>\n",
              "      <td>1.000000</td>\n",
              "      <td>-0.252363</td>\n",
              "      <td>-0.200694</td>\n",
              "      <td>-0.019490</td>\n",
              "    </tr>\n",
              "    <tr>\n",
              "      <th>Resistin</th>\n",
              "      <td>0.002742</td>\n",
              "      <td>0.195350</td>\n",
              "      <td>0.291327</td>\n",
              "      <td>0.146731</td>\n",
              "      <td>0.231101</td>\n",
              "      <td>0.256234</td>\n",
              "      <td>-0.252363</td>\n",
              "      <td>1.000000</td>\n",
              "      <td>0.366474</td>\n",
              "      <td>0.227310</td>\n",
              "    </tr>\n",
              "    <tr>\n",
              "      <th>MCP.1</th>\n",
              "      <td>0.013462</td>\n",
              "      <td>0.224038</td>\n",
              "      <td>0.264879</td>\n",
              "      <td>0.174356</td>\n",
              "      <td>0.259529</td>\n",
              "      <td>0.014009</td>\n",
              "      <td>-0.200694</td>\n",
              "      <td>0.366474</td>\n",
              "      <td>1.000000</td>\n",
              "      <td>0.091381</td>\n",
              "    </tr>\n",
              "    <tr>\n",
              "      <th>Classification</th>\n",
              "      <td>-0.043555</td>\n",
              "      <td>-0.132586</td>\n",
              "      <td>0.384315</td>\n",
              "      <td>0.276804</td>\n",
              "      <td>0.284012</td>\n",
              "      <td>-0.001078</td>\n",
              "      <td>-0.019490</td>\n",
              "      <td>0.227310</td>\n",
              "      <td>0.091381</td>\n",
              "      <td>1.000000</td>\n",
              "    </tr>\n",
              "  </tbody>\n",
              "</table>\n",
              "</div>\n",
              "      <button class=\"colab-df-convert\" onclick=\"convertToInteractive('df-e45bfdce-e840-4aa5-bd97-cdacd0b3f058')\"\n",
              "              title=\"Convert this dataframe to an interactive table.\"\n",
              "              style=\"display:none;\">\n",
              "        \n",
              "  <svg xmlns=\"http://www.w3.org/2000/svg\" height=\"24px\"viewBox=\"0 0 24 24\"\n",
              "       width=\"24px\">\n",
              "    <path d=\"M0 0h24v24H0V0z\" fill=\"none\"/>\n",
              "    <path d=\"M18.56 5.44l.94 2.06.94-2.06 2.06-.94-2.06-.94-.94-2.06-.94 2.06-2.06.94zm-11 1L8.5 8.5l.94-2.06 2.06-.94-2.06-.94L8.5 2.5l-.94 2.06-2.06.94zm10 10l.94 2.06.94-2.06 2.06-.94-2.06-.94-.94-2.06-.94 2.06-2.06.94z\"/><path d=\"M17.41 7.96l-1.37-1.37c-.4-.4-.92-.59-1.43-.59-.52 0-1.04.2-1.43.59L10.3 9.45l-7.72 7.72c-.78.78-.78 2.05 0 2.83L4 21.41c.39.39.9.59 1.41.59.51 0 1.02-.2 1.41-.59l7.78-7.78 2.81-2.81c.8-.78.8-2.07 0-2.86zM5.41 20L4 18.59l7.72-7.72 1.47 1.35L5.41 20z\"/>\n",
              "  </svg>\n",
              "      </button>\n",
              "      \n",
              "  <style>\n",
              "    .colab-df-container {\n",
              "      display:flex;\n",
              "      flex-wrap:wrap;\n",
              "      gap: 12px;\n",
              "    }\n",
              "\n",
              "    .colab-df-convert {\n",
              "      background-color: #E8F0FE;\n",
              "      border: none;\n",
              "      border-radius: 50%;\n",
              "      cursor: pointer;\n",
              "      display: none;\n",
              "      fill: #1967D2;\n",
              "      height: 32px;\n",
              "      padding: 0 0 0 0;\n",
              "      width: 32px;\n",
              "    }\n",
              "\n",
              "    .colab-df-convert:hover {\n",
              "      background-color: #E2EBFA;\n",
              "      box-shadow: 0px 1px 2px rgba(60, 64, 67, 0.3), 0px 1px 3px 1px rgba(60, 64, 67, 0.15);\n",
              "      fill: #174EA6;\n",
              "    }\n",
              "\n",
              "    [theme=dark] .colab-df-convert {\n",
              "      background-color: #3B4455;\n",
              "      fill: #D2E3FC;\n",
              "    }\n",
              "\n",
              "    [theme=dark] .colab-df-convert:hover {\n",
              "      background-color: #434B5C;\n",
              "      box-shadow: 0px 1px 3px 1px rgba(0, 0, 0, 0.15);\n",
              "      filter: drop-shadow(0px 1px 2px rgba(0, 0, 0, 0.3));\n",
              "      fill: #FFFFFF;\n",
              "    }\n",
              "  </style>\n",
              "\n",
              "      <script>\n",
              "        const buttonEl =\n",
              "          document.querySelector('#df-e45bfdce-e840-4aa5-bd97-cdacd0b3f058 button.colab-df-convert');\n",
              "        buttonEl.style.display =\n",
              "          google.colab.kernel.accessAllowed ? 'block' : 'none';\n",
              "\n",
              "        async function convertToInteractive(key) {\n",
              "          const element = document.querySelector('#df-e45bfdce-e840-4aa5-bd97-cdacd0b3f058');\n",
              "          const dataTable =\n",
              "            await google.colab.kernel.invokeFunction('convertToInteractive',\n",
              "                                                     [key], {});\n",
              "          if (!dataTable) return;\n",
              "\n",
              "          const docLinkHtml = 'Like what you see? Visit the ' +\n",
              "            '<a target=\"_blank\" href=https://colab.research.google.com/notebooks/data_table.ipynb>data table notebook</a>'\n",
              "            + ' to learn more about interactive tables.';\n",
              "          element.innerHTML = '';\n",
              "          dataTable['output_type'] = 'display_data';\n",
              "          await google.colab.output.renderOutput(dataTable, element);\n",
              "          const docLink = document.createElement('div');\n",
              "          docLink.innerHTML = docLinkHtml;\n",
              "          element.appendChild(docLink);\n",
              "        }\n",
              "      </script>\n",
              "    </div>\n",
              "  </div>\n",
              "  "
            ]
          },
          "metadata": {},
          "execution_count": 57
        }
      ]
    },
    {
      "cell_type": "code",
      "source": [
        "df_x = StandardScaler().fit_transform(df_x)"
      ],
      "metadata": {
        "id": "Th2inUB0dnLd"
      },
      "execution_count": 58,
      "outputs": []
    },
    {
      "cell_type": "code",
      "source": [
        "#X_train,X_test, y_train, y_test = train_test_split(df_x, df_y, test_size=0.2, random_state=33)"
      ],
      "metadata": {
        "id": "yRXh1gsx_Q8D"
      },
      "execution_count": 59,
      "outputs": []
    },
    {
      "cell_type": "code",
      "source": [
        "Kvals = [2,3,5,11,21,31]\n",
        "Mvals = [10,20,30,40,50,60,70,80,90,100]\n",
        "Acc = []"
      ],
      "metadata": {
        "id": "V0rrk3ZmDIPx"
      },
      "execution_count": 60,
      "outputs": []
    },
    {
      "cell_type": "code",
      "source": [
        "for m in Mvals:\n",
        "  for k in Kvals:\n",
        "    skf = StratifiedKFold(n_splits=k,random_state = 33,shuffle = True)\n",
        "    #kf = KFold(n_splits=k,shuffle=False)\n",
        "    for train,test in skf.split(df_x,df_y):\n",
        "      x_train=df_x[train]\n",
        "      y_train=df_y[train]\n",
        "      x_test=df_x[test]\n",
        "      y_test=df_y[test]\n",
        "      DTC = DecisionTreeClassifier(criterion='gini',max_depth=m)\n",
        "      DTC.fit(x_train,y_train)\n",
        "      #print(DTC.score(x_test,y_test))\n",
        "      Acc.append(DTC.score(x_test,y_test))\n",
        "  #print(k)"
      ],
      "metadata": {
        "id": "kl2YJp75DMIr"
      },
      "execution_count": 61,
      "outputs": []
    },
    {
      "cell_type": "code",
      "source": [
        "np.mean(Acc)"
      ],
      "metadata": {
        "colab": {
          "base_uri": "https://localhost:8080/"
        },
        "id": "lBkvbpGGLds0",
        "outputId": "bf283168-32cb-4f34-a822-8023ff6c5498"
      },
      "execution_count": 62,
      "outputs": [
        {
          "output_type": "execute_result",
          "data": {
            "text/plain": [
              "0.7222400233726871"
            ]
          },
          "metadata": {},
          "execution_count": 62
        }
      ]
    },
    {
      "cell_type": "code",
      "source": [
        "Acc_entropy= []\n",
        "Acc_log = []"
      ],
      "metadata": {
        "id": "PnZRXPOOLe1P"
      },
      "execution_count": 63,
      "outputs": []
    },
    {
      "cell_type": "code",
      "source": [
        "for m in Mvals:\n",
        "  for k in Kvals:\n",
        "    skf = StratifiedKFold(n_splits=k,random_state = 33,shuffle = True)\n",
        "    #kf = KFold(n_splits=k,shuffle=False)\n",
        "    for train,test in skf.split(df_x,df_y):\n",
        "      x_train=df_x[train]\n",
        "      y_train=df_y[train]\n",
        "      x_test=df_x[test]\n",
        "      y_test=df_y[test]\n",
        "      DTC = DecisionTreeClassifier(criterion='entropy',max_depth=m)\n",
        "      DTC.fit(x_train,y_train)\n",
        "      #print(DTC.score(x_test,y_test))\n",
        "      Acc_entropy.append(DTC.score(x_test,y_test))\n",
        "  #print(k)"
      ],
      "metadata": {
        "id": "KwpXUIxDidJb"
      },
      "execution_count": 64,
      "outputs": []
    },
    {
      "cell_type": "code",
      "source": [
        "for m in Mvals:\n",
        "  for k in Kvals:\n",
        "    skf = StratifiedKFold(n_splits=k,random_state = 33,shuffle = True)\n",
        "    #kf = KFold(n_splits=k,shuffle=False)\n",
        "    for train,test in skf.split(df_x,df_y):\n",
        "      x_train=df_x[train]\n",
        "      y_train=df_y[train]\n",
        "      x_test=df_x[test]\n",
        "      y_test=df_y[test]\n",
        "      DTC = DecisionTreeClassifier(criterion='log_loss',max_depth=m)\n",
        "      DTC.fit(x_train,y_train)\n",
        "      #print(DTC.score(x_test,y_test))\n",
        "      Acc_log.append(DTC.score(x_test,y_test))\n",
        "  #print(k)"
      ],
      "metadata": {
        "id": "cxXGJ7vqihG8"
      },
      "execution_count": 65,
      "outputs": []
    },
    {
      "cell_type": "code",
      "source": [
        "np.mean(Acc_entropy)"
      ],
      "metadata": {
        "colab": {
          "base_uri": "https://localhost:8080/"
        },
        "id": "5V6i1UVwizdZ",
        "outputId": "2e32fc46-00fe-40b8-f51c-32edfb3ca317"
      },
      "execution_count": 66,
      "outputs": [
        {
          "output_type": "execute_result",
          "data": {
            "text/plain": [
              "0.6919137579366774"
            ]
          },
          "metadata": {},
          "execution_count": 66
        }
      ]
    },
    {
      "cell_type": "code",
      "source": [
        "np.mean(Acc_log)"
      ],
      "metadata": {
        "colab": {
          "base_uri": "https://localhost:8080/"
        },
        "id": "WBBJdFQBi0CZ",
        "outputId": "980a986c-381e-4a96-8afb-3eba4071e2f5"
      },
      "execution_count": 67,
      "outputs": [
        {
          "output_type": "execute_result",
          "data": {
            "text/plain": [
              "0.6893158212326269"
            ]
          },
          "metadata": {},
          "execution_count": 67
        }
      ]
    }
  ]
}