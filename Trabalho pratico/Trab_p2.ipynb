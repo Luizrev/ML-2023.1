{
  "nbformat": 4,
  "nbformat_minor": 0,
  "metadata": {
    "colab": {
      "provenance": []
    },
    "kernelspec": {
      "name": "python3",
      "display_name": "Python 3"
    },
    "language_info": {
      "name": "python"
    }
  },
  "cells": [
    {
      "cell_type": "code",
      "execution_count": 130,
      "metadata": {
        "id": "85nWQMlvu2CK"
      },
      "outputs": [],
      "source": [
        "import matplotlib.pyplot as plt\n",
        "import pandas as pd\n",
        "from IPython.display import Markdown\n",
        "import numpy as np\n",
        "import seaborn as sns\n",
        "from sklearn.pipeline import Pipeline\n",
        "from sklearn.compose import ColumnTransformer\n",
        "from imblearn.under_sampling import RandomUnderSampler\n",
        "from imblearn.over_sampling import RandomOverSampler\n",
        "%matplotlib inline\n",
        "\n",
        "from sklearn.linear_model import Perceptron#\n",
        "from sklearn.linear_model import PassiveAggressiveClassifier#\n",
        "from sklearn.linear_model import LogisticRegression#\n",
        "from sklearn.tree import DecisionTreeClassifier#\n",
        "from sklearn.ensemble import RandomForestClassifier\n",
        "from sklearn.neighbors import KNeighborsClassifier\n",
        "from sklearn.ensemble import GradientBoostingClassifier\n",
        "\n",
        "from sklearn.discriminant_analysis import LinearDiscriminantAnalysis#\n",
        "from sklearn.discriminant_analysis import QuadraticDiscriminantAnalysis#\n",
        "from sklearn.model_selection import train_test_split,cross_validate, StratifiedShuffleSplit, GridSearchCV\n",
        "from sklearn.preprocessing import MinMaxScaler,StandardScaler, RobustScaler"
      ]
    },
    {
      "cell_type": "code",
      "source": [
        "df = pd.read_csv(\"/content/drive/MyDrive/Datasets/NAFLD/nafld1.csv\")"
      ],
      "metadata": {
        "id": "DbcPpBBevxQD"
      },
      "execution_count": 131,
      "outputs": []
    },
    {
      "cell_type": "code",
      "source": [
        "std_columns = ['age', 'futime']\n",
        "rb_columns = ['weight', 'height', 'bmi']\n",
        "target_column = 'status'"
      ],
      "metadata": {
        "id": "W6yQeR3Pw37q"
      },
      "execution_count": 132,
      "outputs": []
    },
    {
      "cell_type": "code",
      "source": [
        "df.isna().sum()"
      ],
      "metadata": {
        "colab": {
          "base_uri": "https://localhost:8080/"
        },
        "id": "GkDLfLAPxxqb",
        "outputId": "d6b783bd-23ce-4ccc-88ef-022f0dc2fe1a"
      },
      "execution_count": 133,
      "outputs": [
        {
          "output_type": "execute_result",
          "data": {
            "text/plain": [
              "Unnamed: 0       0\n",
              "id               0\n",
              "age              0\n",
              "male             0\n",
              "weight        4786\n",
              "height        3168\n",
              "bmi           4961\n",
              "case.id         31\n",
              "futime           0\n",
              "status           0\n",
              "dtype: int64"
            ]
          },
          "metadata": {},
          "execution_count": 133
        }
      ]
    },
    {
      "cell_type": "code",
      "source": [
        "df_original = df\n",
        "df.drop('id', axis=1, inplace=True)\n",
        "df.drop('case.id', axis=1, inplace=True)\n",
        "df.drop(columns=df.columns[0], axis=1, inplace=True)\n",
        "df.tail()"
      ],
      "metadata": {
        "colab": {
          "base_uri": "https://localhost:8080/",
          "height": 206
        },
        "id": "vjmT1JaAystS",
        "outputId": "094c35fa-60c2-4ee2-c55c-074178cee0b3"
      },
      "execution_count": 134,
      "outputs": [
        {
          "output_type": "execute_result",
          "data": {
            "text/plain": [
              "       age  male  weight  height        bmi  futime  status\n",
              "17544   46     0    53.0   161.0  20.501023    1894       0\n",
              "17545   52     1   111.8   154.0  47.335905    3841       0\n",
              "17546   59     0    57.3     NaN        NaN    5081       0\n",
              "17547   61     0     NaN     NaN        NaN    3627       1\n",
              "17548   69     1    94.1   180.0  29.204650    2744       0"
            ],
            "text/html": [
              "\n",
              "  <div id=\"df-e01210e8-ba49-451a-90cf-27328886e38c\">\n",
              "    <div class=\"colab-df-container\">\n",
              "      <div>\n",
              "<style scoped>\n",
              "    .dataframe tbody tr th:only-of-type {\n",
              "        vertical-align: middle;\n",
              "    }\n",
              "\n",
              "    .dataframe tbody tr th {\n",
              "        vertical-align: top;\n",
              "    }\n",
              "\n",
              "    .dataframe thead th {\n",
              "        text-align: right;\n",
              "    }\n",
              "</style>\n",
              "<table border=\"1\" class=\"dataframe\">\n",
              "  <thead>\n",
              "    <tr style=\"text-align: right;\">\n",
              "      <th></th>\n",
              "      <th>age</th>\n",
              "      <th>male</th>\n",
              "      <th>weight</th>\n",
              "      <th>height</th>\n",
              "      <th>bmi</th>\n",
              "      <th>futime</th>\n",
              "      <th>status</th>\n",
              "    </tr>\n",
              "  </thead>\n",
              "  <tbody>\n",
              "    <tr>\n",
              "      <th>17544</th>\n",
              "      <td>46</td>\n",
              "      <td>0</td>\n",
              "      <td>53.0</td>\n",
              "      <td>161.0</td>\n",
              "      <td>20.501023</td>\n",
              "      <td>1894</td>\n",
              "      <td>0</td>\n",
              "    </tr>\n",
              "    <tr>\n",
              "      <th>17545</th>\n",
              "      <td>52</td>\n",
              "      <td>1</td>\n",
              "      <td>111.8</td>\n",
              "      <td>154.0</td>\n",
              "      <td>47.335905</td>\n",
              "      <td>3841</td>\n",
              "      <td>0</td>\n",
              "    </tr>\n",
              "    <tr>\n",
              "      <th>17546</th>\n",
              "      <td>59</td>\n",
              "      <td>0</td>\n",
              "      <td>57.3</td>\n",
              "      <td>NaN</td>\n",
              "      <td>NaN</td>\n",
              "      <td>5081</td>\n",
              "      <td>0</td>\n",
              "    </tr>\n",
              "    <tr>\n",
              "      <th>17547</th>\n",
              "      <td>61</td>\n",
              "      <td>0</td>\n",
              "      <td>NaN</td>\n",
              "      <td>NaN</td>\n",
              "      <td>NaN</td>\n",
              "      <td>3627</td>\n",
              "      <td>1</td>\n",
              "    </tr>\n",
              "    <tr>\n",
              "      <th>17548</th>\n",
              "      <td>69</td>\n",
              "      <td>1</td>\n",
              "      <td>94.1</td>\n",
              "      <td>180.0</td>\n",
              "      <td>29.204650</td>\n",
              "      <td>2744</td>\n",
              "      <td>0</td>\n",
              "    </tr>\n",
              "  </tbody>\n",
              "</table>\n",
              "</div>\n",
              "      <button class=\"colab-df-convert\" onclick=\"convertToInteractive('df-e01210e8-ba49-451a-90cf-27328886e38c')\"\n",
              "              title=\"Convert this dataframe to an interactive table.\"\n",
              "              style=\"display:none;\">\n",
              "        \n",
              "  <svg xmlns=\"http://www.w3.org/2000/svg\" height=\"24px\"viewBox=\"0 0 24 24\"\n",
              "       width=\"24px\">\n",
              "    <path d=\"M0 0h24v24H0V0z\" fill=\"none\"/>\n",
              "    <path d=\"M18.56 5.44l.94 2.06.94-2.06 2.06-.94-2.06-.94-.94-2.06-.94 2.06-2.06.94zm-11 1L8.5 8.5l.94-2.06 2.06-.94-2.06-.94L8.5 2.5l-.94 2.06-2.06.94zm10 10l.94 2.06.94-2.06 2.06-.94-2.06-.94-.94-2.06-.94 2.06-2.06.94z\"/><path d=\"M17.41 7.96l-1.37-1.37c-.4-.4-.92-.59-1.43-.59-.52 0-1.04.2-1.43.59L10.3 9.45l-7.72 7.72c-.78.78-.78 2.05 0 2.83L4 21.41c.39.39.9.59 1.41.59.51 0 1.02-.2 1.41-.59l7.78-7.78 2.81-2.81c.8-.78.8-2.07 0-2.86zM5.41 20L4 18.59l7.72-7.72 1.47 1.35L5.41 20z\"/>\n",
              "  </svg>\n",
              "      </button>\n",
              "      \n",
              "  <style>\n",
              "    .colab-df-container {\n",
              "      display:flex;\n",
              "      flex-wrap:wrap;\n",
              "      gap: 12px;\n",
              "    }\n",
              "\n",
              "    .colab-df-convert {\n",
              "      background-color: #E8F0FE;\n",
              "      border: none;\n",
              "      border-radius: 50%;\n",
              "      cursor: pointer;\n",
              "      display: none;\n",
              "      fill: #1967D2;\n",
              "      height: 32px;\n",
              "      padding: 0 0 0 0;\n",
              "      width: 32px;\n",
              "    }\n",
              "\n",
              "    .colab-df-convert:hover {\n",
              "      background-color: #E2EBFA;\n",
              "      box-shadow: 0px 1px 2px rgba(60, 64, 67, 0.3), 0px 1px 3px 1px rgba(60, 64, 67, 0.15);\n",
              "      fill: #174EA6;\n",
              "    }\n",
              "\n",
              "    [theme=dark] .colab-df-convert {\n",
              "      background-color: #3B4455;\n",
              "      fill: #D2E3FC;\n",
              "    }\n",
              "\n",
              "    [theme=dark] .colab-df-convert:hover {\n",
              "      background-color: #434B5C;\n",
              "      box-shadow: 0px 1px 3px 1px rgba(0, 0, 0, 0.15);\n",
              "      filter: drop-shadow(0px 1px 2px rgba(0, 0, 0, 0.3));\n",
              "      fill: #FFFFFF;\n",
              "    }\n",
              "  </style>\n",
              "\n",
              "      <script>\n",
              "        const buttonEl =\n",
              "          document.querySelector('#df-e01210e8-ba49-451a-90cf-27328886e38c button.colab-df-convert');\n",
              "        buttonEl.style.display =\n",
              "          google.colab.kernel.accessAllowed ? 'block' : 'none';\n",
              "\n",
              "        async function convertToInteractive(key) {\n",
              "          const element = document.querySelector('#df-e01210e8-ba49-451a-90cf-27328886e38c');\n",
              "          const dataTable =\n",
              "            await google.colab.kernel.invokeFunction('convertToInteractive',\n",
              "                                                     [key], {});\n",
              "          if (!dataTable) return;\n",
              "\n",
              "          const docLinkHtml = 'Like what you see? Visit the ' +\n",
              "            '<a target=\"_blank\" href=https://colab.research.google.com/notebooks/data_table.ipynb>data table notebook</a>'\n",
              "            + ' to learn more about interactive tables.';\n",
              "          element.innerHTML = '';\n",
              "          dataTable['output_type'] = 'display_data';\n",
              "          await google.colab.output.renderOutput(dataTable, element);\n",
              "          const docLink = document.createElement('div');\n",
              "          docLink.innerHTML = docLinkHtml;\n",
              "          element.appendChild(docLink);\n",
              "        }\n",
              "      </script>\n",
              "    </div>\n",
              "  </div>\n",
              "  "
            ]
          },
          "metadata": {},
          "execution_count": 134
        }
      ]
    },
    {
      "cell_type": "code",
      "source": [
        "sns.kdeplot(data=df, x=\"age\")"
      ],
      "metadata": {
        "colab": {
          "base_uri": "https://localhost:8080/",
          "height": 466
        },
        "id": "gLYI6K4LzSPm",
        "outputId": "c4782fc9-6f12-403c-c1a7-0d0592c11b38"
      },
      "execution_count": 135,
      "outputs": [
        {
          "output_type": "execute_result",
          "data": {
            "text/plain": [
              "<Axes: xlabel='age', ylabel='Density'>"
            ]
          },
          "metadata": {},
          "execution_count": 135
        },
        {
          "output_type": "display_data",
          "data": {
            "text/plain": [
              "<Figure size 640x480 with 1 Axes>"
            ],
            "image/png": "[encoded data removed]"
          },
          "metadata": {}
        }
      ]
    },
    {
      "cell_type": "code",
      "source": [
        "sns.countplot(x ='male', data = df)"
      ],
      "metadata": {
        "colab": {
          "base_uri": "https://localhost:8080/",
          "height": 466
        },
        "id": "ait2s09mzT0n",
        "outputId": "1c0be237-20fe-4510-870c-346b778e1293"
      },
      "execution_count": 136,
      "outputs": [
        {
          "output_type": "execute_result",
          "data": {
            "text/plain": [
              "<Axes: xlabel='male', ylabel='count'>"
            ]
          },
          "metadata": {},
          "execution_count": 136
        },
        {
          "output_type": "display_data",
          "data": {
            "text/plain": [
              "<Figure size 640x480 with 1 Axes>"
            ],
            "image/png": "[encoded data removed]"
          },
          "metadata": {}
        }
      ]
    },
    {
      "cell_type": "code",
      "source": [
        "sns.countplot(data=df, x=\"male\", hue=\"status\")"
      ],
      "metadata": {
        "colab": {
          "base_uri": "https://localhost:8080/",
          "height": 466
        },
        "id": "O2cnzxDKzTnf",
        "outputId": "0535715d-b41b-49f6-f1b7-b60c185e7bd4"
      },
      "execution_count": 137,
      "outputs": [
        {
          "output_type": "execute_result",
          "data": {
            "text/plain": [
              "<Axes: xlabel='male', ylabel='count'>"
            ]
          },
          "metadata": {},
          "execution_count": 137
        },
        {
          "output_type": "display_data",
          "data": {
            "text/plain": [
              "<Figure size 640x480 with 1 Axes>"
            ],
            "image/png": "[encoded data removed]"
          },
          "metadata": {}
        }
      ]
    },
    {
      "cell_type": "code",
      "source": [
        "sns.kdeplot(data=df, x=\"age\", hue=\"status\", multiple=\"stack\")"
      ],
      "metadata": {
        "colab": {
          "base_uri": "https://localhost:8080/",
          "height": 466
        },
        "id": "0hJI823bza2r",
        "outputId": "726e09f1-2e9c-417e-ef82-3dae5eee0a18"
      },
      "execution_count": 138,
      "outputs": [
        {
          "output_type": "execute_result",
          "data": {
            "text/plain": [
              "<Axes: xlabel='age', ylabel='Density'>"
            ]
          },
          "metadata": {},
          "execution_count": 138
        },
        {
          "output_type": "display_data",
          "data": {
            "text/plain": [
              "<Figure size 640x480 with 1 Axes>"
            ],
            "image/png": "[encoded data removed]"
          },
          "metadata": {}
        }
      ]
    },
    {
      "cell_type": "code",
      "source": [
        "df.isnull().sum() / len(df) * 100"
      ],
      "metadata": {
        "colab": {
          "base_uri": "https://localhost:8080/"
        },
        "id": "Y6pd0R0szgV4",
        "outputId": "e6626874-69b2-4a1b-f483-e5a81ce7e5a9"
      },
      "execution_count": 139,
      "outputs": [
        {
          "output_type": "execute_result",
          "data": {
            "text/plain": [
              "age        0.000000\n",
              "male       0.000000\n",
              "weight    27.272209\n",
              "height    18.052311\n",
              "bmi       28.269417\n",
              "futime     0.000000\n",
              "status     0.000000\n",
              "dtype: float64"
            ]
          },
          "metadata": {},
          "execution_count": 139
        }
      ]
    },
    {
      "cell_type": "code",
      "source": [
        "df['weight'].fillna(df['weight'].mean(), inplace=True)\n",
        "for col in df.columns:\n",
        "    if df[col].dtypes != 'object':\n",
        "        df[col].fillna(df[col].median(),inplace=True)\n",
        "    else:\n",
        "        df[col].fillna(df[col].mode()[0],inplace=True)"
      ],
      "metadata": {
        "id": "ay96FgqU0yE8"
      },
      "execution_count": 140,
      "outputs": []
    },
    {
      "cell_type": "code",
      "source": [
        "df.status.value_counts(normalize=True)"
      ],
      "metadata": {
        "colab": {
          "base_uri": "https://localhost:8080/"
        },
        "id": "Ls1hU15jv7QV",
        "outputId": "702c7259-3c36-46d3-d119-6272564d5076"
      },
      "execution_count": 141,
      "outputs": [
        {
          "output_type": "execute_result",
          "data": {
            "text/plain": [
              "0    0.922275\n",
              "1    0.077725\n",
              "Name: status, dtype: float64"
            ]
          },
          "metadata": {},
          "execution_count": 141
        }
      ]
    },
    {
      "cell_type": "code",
      "source": [
        "plt.figure(figsize=(8,6))\n",
        "df.status.value_counts().plot(kind='bar')\n",
        "plt.ylabel('Number of Patients')\n",
        "plt.xlabel('Status')\n",
        "plt.show()"
      ],
      "metadata": {
        "colab": {
          "base_uri": "https://localhost:8080/",
          "height": 537
        },
        "id": "CHCkGA-RwBmA",
        "outputId": "4eee720d-5994-4299-d0f3-b6e1924deb24"
      },
      "execution_count": 142,
      "outputs": [
        {
          "output_type": "display_data",
          "data": {
            "text/plain": [
              "<Figure size 800x600 with 1 Axes>"
            ],
            "image/png": "[encoded data removed]"
          },
          "metadata": {}
        }
      ]
    },
    {
      "cell_type": "code",
      "source": [
        "df['age'].hist(bins=50)\n",
        "plt.xlabel('Idade')\n",
        "plt.ylabel('Número de pacientes')\n",
        "plt.show()"
      ],
      "metadata": {
        "colab": {
          "base_uri": "https://localhost:8080/",
          "height": 449
        },
        "id": "moZ60ePdxZiB",
        "outputId": "134b6cb3-9d03-4918-eab9-4295985c692c"
      },
      "execution_count": 143,
      "outputs": [
        {
          "output_type": "display_data",
          "data": {
            "text/plain": [
              "<Figure size 640x480 with 1 Axes>"
            ],
            "image/png": "[encoded data removed]"
          },
          "metadata": {}
        }
      ]
    },
    {
      "cell_type": "code",
      "source": [
        "df.boxplot(column='age')\n",
        "plt.show()"
      ],
      "metadata": {
        "colab": {
          "base_uri": "https://localhost:8080/",
          "height": 430
        },
        "id": "dSpaLJHzxl5Q",
        "outputId": "baf3943d-7bc6-4933-bfe6-0475fe725a33"
      },
      "execution_count": 144,
      "outputs": [
        {
          "output_type": "display_data",
          "data": {
            "text/plain": [
              "<Figure size 640x480 with 1 Axes>"
            ],
            "image/png": "[encoded data removed]"
          },
          "metadata": {}
        }
      ]
    },
    {
      "cell_type": "code",
      "source": [
        "df['weight'].hist(bins=50)\n",
        "plt.xlabel('Peso')\n",
        "plt.ylabel('Número de pacientes')\n",
        "plt.show()"
      ],
      "metadata": {
        "colab": {
          "base_uri": "https://localhost:8080/",
          "height": 449
        },
        "id": "f_qKmHxCxwGc",
        "outputId": "a1cb3f7d-06ba-4477-8c80-7127e86661d1"
      },
      "execution_count": 145,
      "outputs": [
        {
          "output_type": "display_data",
          "data": {
            "text/plain": [
              "<Figure size 640x480 with 1 Axes>"
            ],
            "image/png": "[encoded data removed]"
          },
          "metadata": {}
        }
      ]
    },
    {
      "cell_type": "code",
      "source": [
        "df.boxplot(column='weight')\n",
        "plt.show()"
      ],
      "metadata": {
        "colab": {
          "base_uri": "https://localhost:8080/",
          "height": 430
        },
        "id": "rWhiw_s_xzJe",
        "outputId": "00570b8a-c603-4b83-9297-8e14a1d54cdb"
      },
      "execution_count": 146,
      "outputs": [
        {
          "output_type": "display_data",
          "data": {
            "text/plain": [
              "<Figure size 640x480 with 1 Axes>"
            ],
            "image/png": "[encoded data removed]"
          },
          "metadata": {}
        }
      ]
    },
    {
      "cell_type": "code",
      "source": [
        "df['height'].hist(bins=50)\n",
        "plt.xlabel('Altura')\n",
        "plt.ylabel('Número de pacientes')\n",
        "plt.show()"
      ],
      "metadata": {
        "colab": {
          "base_uri": "https://localhost:8080/",
          "height": 449
        },
        "id": "OZ7PaKGbx4tx",
        "outputId": "8b74ecba-9605-44c1-9f2a-0ecc680312cd"
      },
      "execution_count": 147,
      "outputs": [
        {
          "output_type": "display_data",
          "data": {
            "text/plain": [
              "<Figure size 640x480 with 1 Axes>"
            ],
            "image/png": "[encoded data removed]"
          },
          "metadata": {}
        }
      ]
    },
    {
      "cell_type": "code",
      "source": [
        "df.boxplot(column='height')\n",
        "plt.show()"
      ],
      "metadata": {
        "colab": {
          "base_uri": "https://localhost:8080/",
          "height": 430
        },
        "id": "bkOO1aW-x7ZD",
        "outputId": "9fb12c78-5784-43b9-966b-d1e7f5b6ac9a"
      },
      "execution_count": 148,
      "outputs": [
        {
          "output_type": "display_data",
          "data": {
            "text/plain": [
              "<Figure size 640x480 with 1 Axes>"
            ],
            "image/png": "[encoded data removed]"
          },
          "metadata": {}
        }
      ]
    },
    {
      "cell_type": "code",
      "source": [
        "bins=[20,30,40,50,60,70,80]\n",
        "\n",
        "df['extra_col']=pd.cut(df['age'],bins)\n",
        "age=pd.crosstab(df['extra_col'],df['status'])\n",
        "age.div(age.sum(1).astype(float), axis=0).plot(kind=\"bar\", stacked=True)\n",
        "\n",
        "plt.xlabel('Idade')\n",
        "P = plt.ylabel('Status')"
      ],
      "metadata": {
        "colab": {
          "base_uri": "https://localhost:8080/",
          "height": 490
        },
        "id": "A_cGC4bmyGqh",
        "outputId": "bb3b2d6a-a661-4b37-cc67-10616befca94"
      },
      "execution_count": 149,
      "outputs": [
        {
          "output_type": "display_data",
          "data": {
            "text/plain": [
              "<Figure size 640x480 with 1 Axes>"
            ],
            "image/png": "[encoded data removed]"
          },
          "metadata": {}
        }
      ]
    },
    {
      "cell_type": "code",
      "source": [
        "robust_scaler = RobustScaler()\n",
        "df[rb_columns] = robust_scaler.fit_transform(df[rb_columns])\n",
        "\n",
        "scaler = StandardScaler()\n",
        "df[std_columns] = scaler.fit_transform(df[std_columns])"
      ],
      "metadata": {
        "id": "tD-mwIsV09fa"
      },
      "execution_count": 150,
      "outputs": []
    },
    {
      "cell_type": "code",
      "source": [
        "fig = plt.figure(figsize=(16,4))\n",
        "\n",
        "#weight\n",
        "weight = fig.add_subplot(2,2,1) # top left\n",
        "weight.set_title(\"Histograma do peso\")\n",
        "weight.set_xlabel('weight')\n",
        "weight.set_ylabel('Number of Patients')\n",
        "df['weight'].hist(bins=20)\n",
        "\n",
        "#height\n",
        "height = fig.add_subplot(2,2,2) # top right\n",
        "height.set_title(\"Histograma da altura\")\n",
        "height.set_xlabel('weight')\n",
        "height.set_ylabel('Number of Patients')\n",
        "df['height'].hist(bins=20)\n",
        "\n",
        "#bmi\n",
        "bmi = fig.add_subplot(2,2,3) # bottom left\n",
        "bmi.set_title(\"Histograma do IMC\")\n",
        "bmi.set_xlabel('bmi')\n",
        "bmi.set_ylabel('Number of Patients')\n",
        "df['bmi'].hist(bins=20)\n",
        "\n",
        "plt.show()"
      ],
      "metadata": {
        "colab": {
          "base_uri": "https://localhost:8080/",
          "height": 345
        },
        "id": "JFrRCGSf1lMH",
        "outputId": "2f5e033e-6765-4b84-bec8-8df5a8215ebc"
      },
      "execution_count": 151,
      "outputs": [
        {
          "output_type": "display_data",
          "data": {
            "text/plain": [
              "<Figure size 1600x400 with 3 Axes>"
            ],
            "image/png": "[encoded data removed]"
          },
          "metadata": {}
        }
      ]
    },
    {
      "cell_type": "code",
      "source": [
        "df[['weight', 'height','bmi']].min()"
      ],
      "metadata": {
        "colab": {
          "base_uri": "https://localhost:8080/"
        },
        "id": "pqWj1DUq2AGm",
        "outputId": "b9eb387a-f90d-4aac-dbbb-07a2ebe416c6"
      },
      "execution_count": 152,
      "outputs": [
        {
          "output_type": "execute_result",
          "data": {
            "text/plain": [
              "weight   -3.060887\n",
              "height   -4.181818\n",
              "bmi      -3.908419\n",
              "dtype: float64"
            ]
          },
          "metadata": {},
          "execution_count": 152
        }
      ]
    },
    {
      "cell_type": "code",
      "source": [
        "df['weight'] = np.log(df['weight']+4.07)\n",
        "df['height'] = np.log(df['height']+5.19)\n",
        "df['bmi'] = np.log(df['bmi']+4.91)"
      ],
      "metadata": {
        "id": "ToE0iOlY2Akv"
      },
      "execution_count": 153,
      "outputs": []
    },
    {
      "cell_type": "code",
      "source": [
        "fig = plt.figure(figsize=(16,4))\n",
        "\n",
        "#weight\n",
        "weight = fig.add_subplot(2,2,1) # top left\n",
        "weight.set_title(\"Histograma do peso\")\n",
        "weight.set_xlabel('weight')\n",
        "weight.set_ylabel('Number of Patients')\n",
        "df['weight'].hist(bins=20)\n",
        "\n",
        "#height\n",
        "height = fig.add_subplot(2,2,2) # top right\n",
        "height.set_title(\"Histograma da altura\")\n",
        "height.set_xlabel('weight')\n",
        "height.set_ylabel('Number of Patients')\n",
        "df['height'].hist(bins=20)\n",
        "\n",
        "#bmi\n",
        "bmi = fig.add_subplot(2,2,3) # bottom left\n",
        "bmi.set_title(\"Histograma do IMC\")\n",
        "bmi.set_xlabel('bmi')\n",
        "bmi.set_ylabel('Number of Patients')\n",
        "df['bmi'].hist(bins=20)\n",
        "\n",
        "plt.show()"
      ],
      "metadata": {
        "colab": {
          "base_uri": "https://localhost:8080/",
          "height": 345
        },
        "id": "f6ItsdQM2D_c",
        "outputId": "ce544a26-8b52-4065-efbf-95b15b6d025d"
      },
      "execution_count": 154,
      "outputs": [
        {
          "output_type": "display_data",
          "data": {
            "text/plain": [
              "<Figure size 1600x400 with 3 Axes>"
            ],
            "image/png": "[encoded data removed]"
          },
          "metadata": {}
        }
      ]
    },
    {
      "cell_type": "code",
      "source": [
        "rb_preprocessor = Pipeline([\n",
        "    ('robust_scaler', RobustScaler()),\n",
        "])\n",
        "\n",
        "\n",
        "std_preprocessor = Pipeline([\n",
        "    ('standard_scaler', StandardScaler()),\n",
        "])"
      ],
      "metadata": {
        "id": "tw9TeBzz2Lgx"
      },
      "execution_count": 155,
      "outputs": []
    },
    {
      "cell_type": "code",
      "source": [
        "preprocessing = ColumnTransformer([\n",
        "    ('rb_transformer', rb_preprocessor, rb_columns),\n",
        "    ('std_transformer', std_preprocessor, std_columns)\n",
        "])"
      ],
      "metadata": {
        "id": "J564mKMl8Qzf"
      },
      "execution_count": 156,
      "outputs": []
    },
    {
      "cell_type": "code",
      "source": [
        "models = [\n",
        "    (\n",
        "        \"Logistic Regr\", #Nome do modelo (abreviado)\n",
        "        LogisticRegression(solver='saga', max_iter=1000), # Chamada do método do modelo\n",
        "        {\"penalty\": ['none', 'l1', 'l2']} # Diferentes parametros que serão testados\n",
        "    ),(\n",
        "        \"KNN\",\n",
        "        KNeighborsClassifier(),\n",
        "        {\"n_neighbors\":[2,5,10,15,20]}\n",
        "    ),\n",
        "    (\n",
        "        \"PassiveAggressiveClassifier\",\n",
        "        PassiveAggressiveClassifier(),\n",
        "        {\"random_state\":[0],\"tol\":[1e-3]}\n",
        "    ),\n",
        "    (\n",
        "        \"DecisionTreeClassifier\",\n",
        "        DecisionTreeClassifier(),\n",
        "        {}\n",
        "    ),\n",
        "    (\n",
        "        \"RandomForestClassifier\",\n",
        "        RandomForestClassifier(),\n",
        "        {\"max_depth\":[2,4,6,8,10],\"random_state\":[0]}\n",
        "    ),\n",
        "    (\n",
        "        \"GradientBoostingClassifier\",\n",
        "        GradientBoostingClassifier(),\n",
        "        {\"n_estimators\":[100],\"learning_rate\":[1.0],\"max_depth\":[1],\"random_state\":[0]}\n",
        "    ),\n",
        "    (\n",
        "        \"LinearDiscriminantAnalysis\",\n",
        "        LinearDiscriminantAnalysis(),\n",
        "        {}\n",
        "    ),\n",
        "    (\n",
        "        \"QuadraticDiscriminantAnalysis\",\n",
        "        QuadraticDiscriminantAnalysis(),\n",
        "        {}\n",
        "    )\n",
        "]"
      ],
      "metadata": {
        "id": "-RxjIml__6mV"
      },
      "execution_count": 157,
      "outputs": []
    },
    {
      "cell_type": "code",
      "source": [
        "X = df.drop(columns=[target_column], axis=1)\n",
        "y = df[[target_column]]\n",
        "\n",
        "cv = StratifiedShuffleSplit(n_splits=30, train_size=0.8, random_state=42)"
      ],
      "metadata": {
        "id": "IUg51xZuEVGA"
      },
      "execution_count": 158,
      "outputs": []
    },
    {
      "cell_type": "code",
      "source": [
        "results = {}\n",
        "for model_name, model, model_params in models:\n",
        "    print(f'{model_name} run...')\n",
        "\n",
        "    model_gs = GridSearchCV(model, model_params, scoring='accuracy')\n",
        "    approach = Pipeline([\n",
        "        (\"preprocessing\", preprocessing),\n",
        "        (\"model\", model_gs)\n",
        "    ])\n",
        "    model_results = cross_validate(\n",
        "        approach,\n",
        "        X=X,\n",
        "        y=y,\n",
        "        scoring=['accuracy', 'f1', 'precision', 'recall'], #Critérios de avaliação\n",
        "        cv=cv,\n",
        "        n_jobs=-1,\n",
        "        return_train_score=False\n",
        "    )\n",
        "    model_results['name'] = [model_name] * len(model_results['score_time'])\n",
        "    if results:\n",
        "        for key, value in model_results.items():\n",
        "            results[key] = np.append(results[key], value)\n",
        "    else:\n",
        "        results = model_results"
      ],
      "metadata": {
        "colab": {
          "base_uri": "https://localhost:8080/"
        },
        "id": "-0Gx86UyEjwo",
        "outputId": "2c237558-a4fb-4ac1-bbe2-dc0114a1c2e7"
      },
      "execution_count": 159,
      "outputs": [
        {
          "output_type": "stream",
          "name": "stdout",
          "text": [
            "Logistic Regr run...\n",
            "KNN run...\n",
            "PassiveAggressiveClassifier run...\n",
            "DecisionTreeClassifier run...\n",
            "RandomForestClassifier run...\n",
            "GradientBoostingClassifier run...\n",
            "LinearDiscriminantAnalysis run...\n",
            "QuadraticDiscriminantAnalysis run...\n"
          ]
        }
      ]
    },
    {
      "cell_type": "code",
      "source": [
        "df_results = pd.DataFrame(results)\n",
        "df_results.groupby('name').agg([np.mean, np.std])"
      ],
      "metadata": {
        "colab": {
          "base_uri": "https://localhost:8080/",
          "height": 407
        },
        "id": "EkMsocvUFyvL",
        "outputId": "64ac6c8a-812f-4bcc-9a79-5650e2c990f8"
      },
      "execution_count": 160,
      "outputs": [
        {
          "output_type": "execute_result",
          "data": {
            "text/plain": [
              "                                fit_time           score_time            \\\n",
              "                                    mean       std       mean       std   \n",
              "name                                                                      \n",
              "DecisionTreeClassifier          0.830199  0.255541   0.062238  0.025652   \n",
              "GradientBoostingClassifier      6.780271  1.103634   0.058060  0.020291   \n",
              "KNN                             6.529115  1.123584   0.396118  0.123539   \n",
              "LinearDiscriminantAnalysis      0.218083  0.014237   0.048533  0.007723   \n",
              "Logistic Regr                   1.361003  0.334560   0.052621  0.019197   \n",
              "PassiveAggressiveClassifier     0.194325  0.016565   0.054426  0.008873   \n",
              "QuadraticDiscriminantAnalysis   0.226255  0.041643   0.086546  0.027319   \n",
              "RandomForestClassifier         48.588447  1.666186   0.128157  0.050488   \n",
              "\n",
              "                              test_accuracy             test_f1            \\\n",
              "                                       mean       std      mean       std   \n",
              "name                                                                        \n",
              "DecisionTreeClassifier             0.883913  0.004757  0.283620  0.022981   \n",
              "GradientBoostingClassifier         0.920095  0.004852  0.259014  0.188023   \n",
              "KNN                                0.925764  0.001644  0.164115  0.033512   \n",
              "LinearDiscriminantAnalysis         0.926429  0.001242  0.166966  0.022070   \n",
              "Logistic Regr                      0.926648  0.001185  0.177050  0.023215   \n",
              "PassiveAggressiveClassifier        0.845774  0.074903  0.192624  0.117508   \n",
              "QuadraticDiscriminantAnalysis      0.914530  0.002687  0.159314  0.019428   \n",
              "RandomForestClassifier             0.928746  0.001733  0.262118  0.034910   \n",
              "\n",
              "                              test_precision           test_recall            \n",
              "                                        mean       std        mean       std  \n",
              "name                                                                          \n",
              "DecisionTreeClassifier              0.273039  0.021901    0.295726  0.028160  \n",
              "GradientBoostingClassifier          0.323298  0.239912    0.222466  0.165643  \n",
              "KNN                                 0.675571  0.090377    0.094383  0.022430  \n",
              "LinearDiscriminantAnalysis          0.701961  0.063865    0.094994  0.013838  \n",
              "Logistic Regr                       0.698767  0.061882    0.101709  0.014862  \n",
              "PassiveAggressiveClassifier         0.293134  0.238498    0.298657  0.239971  \n",
              "QuadraticDiscriminantAnalysis       0.341884  0.045681    0.104274  0.014030  \n",
              "RandomForestClassifier              0.673110  0.039587    0.163492  0.026317  "
            ],
            "text/html": [
              "\n",
              "  <div id=\"df-b59b2245-cfd9-46a7-9f68-011a8102c16e\">\n",
              "    <div class=\"colab-df-container\">\n",
              "      <div>\n",
              "<style scoped>\n",
              "    .dataframe tbody tr th:only-of-type {\n",
              "        vertical-align: middle;\n",
              "    }\n",
              "\n",
              "    .dataframe tbody tr th {\n",
              "        vertical-align: top;\n",
              "    }\n",
              "\n",
              "    .dataframe thead tr th {\n",
              "        text-align: left;\n",
              "    }\n",
              "\n",
              "    .dataframe thead tr:last-of-type th {\n",
              "        text-align: right;\n",
              "    }\n",
              "</style>\n",
              "<table border=\"1\" class=\"dataframe\">\n",
              "  <thead>\n",
              "    <tr>\n",
              "      <th></th>\n",
              "      <th colspan=\"2\" halign=\"left\">fit_time</th>\n",
              "      <th colspan=\"2\" halign=\"left\">score_time</th>\n",
              "      <th colspan=\"2\" halign=\"left\">test_accuracy</th>\n",
              "      <th colspan=\"2\" halign=\"left\">test_f1</th>\n",
              "      <th colspan=\"2\" halign=\"left\">test_precision</th>\n",
              "      <th colspan=\"2\" halign=\"left\">test_recall</th>\n",
              "    </tr>\n",
              "    <tr>\n",
              "      <th></th>\n",
              "      <th>mean</th>\n",
              "      <th>std</th>\n",
              "      <th>mean</th>\n",
              "      <th>std</th>\n",
              "      <th>mean</th>\n",
              "      <th>std</th>\n",
              "      <th>mean</th>\n",
              "      <th>std</th>\n",
              "      <th>mean</th>\n",
              "      <th>std</th>\n",
              "      <th>mean</th>\n",
              "      <th>std</th>\n",
              "    </tr>\n",
              "    <tr>\n",
              "      <th>name</th>\n",
              "      <th></th>\n",
              "      <th></th>\n",
              "      <th></th>\n",
              "      <th></th>\n",
              "      <th></th>\n",
              "      <th></th>\n",
              "      <th></th>\n",
              "      <th></th>\n",
              "      <th></th>\n",
              "      <th></th>\n",
              "      <th></th>\n",
              "      <th></th>\n",
              "    </tr>\n",
              "  </thead>\n",
              "  <tbody>\n",
              "    <tr>\n",
              "      <th>DecisionTreeClassifier</th>\n",
              "      <td>0.830199</td>\n",
              "      <td>0.255541</td>\n",
              "      <td>0.062238</td>\n",
              "      <td>0.025652</td>\n",
              "      <td>0.883913</td>\n",
              "      <td>0.004757</td>\n",
              "      <td>0.283620</td>\n",
              "      <td>0.022981</td>\n",
              "      <td>0.273039</td>\n",
              "      <td>0.021901</td>\n",
              "      <td>0.295726</td>\n",
              "      <td>0.028160</td>\n",
              "    </tr>\n",
              "    <tr>\n",
              "      <th>GradientBoostingClassifier</th>\n",
              "      <td>6.780271</td>\n",
              "      <td>1.103634</td>\n",
              "      <td>0.058060</td>\n",
              "      <td>0.020291</td>\n",
              "      <td>0.920095</td>\n",
              "      <td>0.004852</td>\n",
              "      <td>0.259014</td>\n",
              "      <td>0.188023</td>\n",
              "      <td>0.323298</td>\n",
              "      <td>0.239912</td>\n",
              "      <td>0.222466</td>\n",
              "      <td>0.165643</td>\n",
              "    </tr>\n",
              "    <tr>\n",
              "      <th>KNN</th>\n",
              "      <td>6.529115</td>\n",
              "      <td>1.123584</td>\n",
              "      <td>0.396118</td>\n",
              "      <td>0.123539</td>\n",
              "      <td>0.925764</td>\n",
              "      <td>0.001644</td>\n",
              "      <td>0.164115</td>\n",
              "      <td>0.033512</td>\n",
              "      <td>0.675571</td>\n",
              "      <td>0.090377</td>\n",
              "      <td>0.094383</td>\n",
              "      <td>0.022430</td>\n",
              "    </tr>\n",
              "    <tr>\n",
              "      <th>LinearDiscriminantAnalysis</th>\n",
              "      <td>0.218083</td>\n",
              "      <td>0.014237</td>\n",
              "      <td>0.048533</td>\n",
              "      <td>0.007723</td>\n",
              "      <td>0.926429</td>\n",
              "      <td>0.001242</td>\n",
              "      <td>0.166966</td>\n",
              "      <td>0.022070</td>\n",
              "      <td>0.701961</td>\n",
              "      <td>0.063865</td>\n",
              "      <td>0.094994</td>\n",
              "      <td>0.013838</td>\n",
              "    </tr>\n",
              "    <tr>\n",
              "      <th>Logistic Regr</th>\n",
              "      <td>1.361003</td>\n",
              "      <td>0.334560</td>\n",
              "      <td>0.052621</td>\n",
              "      <td>0.019197</td>\n",
              "      <td>0.926648</td>\n",
              "      <td>0.001185</td>\n",
              "      <td>0.177050</td>\n",
              "      <td>0.023215</td>\n",
              "      <td>0.698767</td>\n",
              "      <td>0.061882</td>\n",
              "      <td>0.101709</td>\n",
              "      <td>0.014862</td>\n",
              "    </tr>\n",
              "    <tr>\n",
              "      <th>PassiveAggressiveClassifier</th>\n",
              "      <td>0.194325</td>\n",
              "      <td>0.016565</td>\n",
              "      <td>0.054426</td>\n",
              "      <td>0.008873</td>\n",
              "      <td>0.845774</td>\n",
              "      <td>0.074903</td>\n",
              "      <td>0.192624</td>\n",
              "      <td>0.117508</td>\n",
              "      <td>0.293134</td>\n",
              "      <td>0.238498</td>\n",
              "      <td>0.298657</td>\n",
              "      <td>0.239971</td>\n",
              "    </tr>\n",
              "    <tr>\n",
              "      <th>QuadraticDiscriminantAnalysis</th>\n",
              "      <td>0.226255</td>\n",
              "      <td>0.041643</td>\n",
              "      <td>0.086546</td>\n",
              "      <td>0.027319</td>\n",
              "      <td>0.914530</td>\n",
              "      <td>0.002687</td>\n",
              "      <td>0.159314</td>\n",
              "      <td>0.019428</td>\n",
              "      <td>0.341884</td>\n",
              "      <td>0.045681</td>\n",
              "      <td>0.104274</td>\n",
              "      <td>0.014030</td>\n",
              "    </tr>\n",
              "    <tr>\n",
              "      <th>RandomForestClassifier</th>\n",
              "      <td>48.588447</td>\n",
              "      <td>1.666186</td>\n",
              "      <td>0.128157</td>\n",
              "      <td>0.050488</td>\n",
              "      <td>0.928746</td>\n",
              "      <td>0.001733</td>\n",
              "      <td>0.262118</td>\n",
              "      <td>0.034910</td>\n",
              "      <td>0.673110</td>\n",
              "      <td>0.039587</td>\n",
              "      <td>0.163492</td>\n",
              "      <td>0.026317</td>\n",
              "    </tr>\n",
              "  </tbody>\n",
              "</table>\n",
              "</div>\n",
              "      <button class=\"colab-df-convert\" onclick=\"convertToInteractive('df-b59b2245-cfd9-46a7-9f68-011a8102c16e')\"\n",
              "              title=\"Convert this dataframe to an interactive table.\"\n",
              "              style=\"display:none;\">\n",
              "        \n",
              "  <svg xmlns=\"http://www.w3.org/2000/svg\" height=\"24px\"viewBox=\"0 0 24 24\"\n",
              "       width=\"24px\">\n",
              "    <path d=\"M0 0h24v24H0V0z\" fill=\"none\"/>\n",
              "    <path d=\"M18.56 5.44l.94 2.06.94-2.06 2.06-.94-2.06-.94-.94-2.06-.94 2.06-2.06.94zm-11 1L8.5 8.5l.94-2.06 2.06-.94-2.06-.94L8.5 2.5l-.94 2.06-2.06.94zm10 10l.94 2.06.94-2.06 2.06-.94-2.06-.94-.94-2.06-.94 2.06-2.06.94z\"/><path d=\"M17.41 7.96l-1.37-1.37c-.4-.4-.92-.59-1.43-.59-.52 0-1.04.2-1.43.59L10.3 9.45l-7.72 7.72c-.78.78-.78 2.05 0 2.83L4 21.41c.39.39.9.59 1.41.59.51 0 1.02-.2 1.41-.59l7.78-7.78 2.81-2.81c.8-.78.8-2.07 0-2.86zM5.41 20L4 18.59l7.72-7.72 1.47 1.35L5.41 20z\"/>\n",
              "  </svg>\n",
              "      </button>\n",
              "      \n",
              "  <style>\n",
              "    .colab-df-container {\n",
              "      display:flex;\n",
              "      flex-wrap:wrap;\n",
              "      gap: 12px;\n",
              "    }\n",
              "\n",
              "    .colab-df-convert {\n",
              "      background-color: #E8F0FE;\n",
              "      border: none;\n",
              "      border-radius: 50%;\n",
              "      cursor: pointer;\n",
              "      display: none;\n",
              "      fill: #1967D2;\n",
              "      height: 32px;\n",
              "      padding: 0 0 0 0;\n",
              "      width: 32px;\n",
              "    }\n",
              "\n",
              "    .colab-df-convert:hover {\n",
              "      background-color: #E2EBFA;\n",
              "      box-shadow: 0px 1px 2px rgba(60, 64, 67, 0.3), 0px 1px 3px 1px rgba(60, 64, 67, 0.15);\n",
              "      fill: #174EA6;\n",
              "    }\n",
              "\n",
              "    [theme=dark] .colab-df-convert {\n",
              "      background-color: #3B4455;\n",
              "      fill: #D2E3FC;\n",
              "    }\n",
              "\n",
              "    [theme=dark] .colab-df-convert:hover {\n",
              "      background-color: #434B5C;\n",
              "      box-shadow: 0px 1px 3px 1px rgba(0, 0, 0, 0.15);\n",
              "      filter: drop-shadow(0px 1px 2px rgba(0, 0, 0, 0.3));\n",
              "      fill: #FFFFFF;\n",
              "    }\n",
              "  </style>\n",
              "\n",
              "      <script>\n",
              "        const buttonEl =\n",
              "          document.querySelector('#df-b59b2245-cfd9-46a7-9f68-011a8102c16e button.colab-df-convert');\n",
              "        buttonEl.style.display =\n",
              "          google.colab.kernel.accessAllowed ? 'block' : 'none';\n",
              "\n",
              "        async function convertToInteractive(key) {\n",
              "          const element = document.querySelector('#df-b59b2245-cfd9-46a7-9f68-011a8102c16e');\n",
              "          const dataTable =\n",
              "            await google.colab.kernel.invokeFunction('convertToInteractive',\n",
              "                                                     [key], {});\n",
              "          if (!dataTable) return;\n",
              "\n",
              "          const docLinkHtml = 'Like what you see? Visit the ' +\n",
              "            '<a target=\"_blank\" href=https://colab.research.google.com/notebooks/data_table.ipynb>data table notebook</a>'\n",
              "            + ' to learn more about interactive tables.';\n",
              "          element.innerHTML = '';\n",
              "          dataTable['output_type'] = 'display_data';\n",
              "          await google.colab.output.renderOutput(dataTable, element);\n",
              "          const docLink = document.createElement('div');\n",
              "          docLink.innerHTML = docLinkHtml;\n",
              "          element.appendChild(docLink);\n",
              "        }\n",
              "      </script>\n",
              "    </div>\n",
              "  </div>\n",
              "  "
            ]
          },
          "metadata": {},
          "execution_count": 160
        }
      ]
    },
    {
      "cell_type": "code",
      "source": [
        "def highlight_max(s, props=''):\n",
        "    values = [float(value.split()[0]) for value in s.values[1:]]\n",
        "    result = [''] * len(s.values)\n",
        "    if s.values[0].endswith('time'):\n",
        "        result[np.argmin(values)+1] = props\n",
        "    else:\n",
        "        result[np.argmax(values)+1] = props\n",
        "    return result\n",
        "\n",
        "def get_winner(s):\n",
        "    metric = s.values[0]\n",
        "    values = [float(value.split()[0]) for value in s.values[1:]]\n",
        "    models = results.columns[1:]\n",
        "\n",
        "    if s.values[0].endswith('time'):\n",
        "        return models[np.argmin(values)]\n",
        "    else:\n",
        "        return models[np.argmax(values)]\n",
        "\n",
        "results = (\n",
        "    pd\n",
        "    .DataFrame(df_results)\n",
        "    .groupby(['name'])\n",
        "    .agg([lambda x: f\"{np.mean(x):.3f} ± {np.std(x):.3f}\"])#\n",
        "    .transpose()\n",
        "    .reset_index()\n",
        "    .rename(columns={\"level_0\": \"score\"})\n",
        "    .drop(columns=\"level_1\")\n",
        "    # .set_index('score')\n",
        ")\n",
        "time_scores = ['fit_time', 'score_time']\n",
        "winner = results.query('score not in @time_scores').apply(get_winner, axis=1).value_counts().index[0]\n",
        "results.columns.name = ''\n",
        "results = (\n",
        "    results\n",
        "    .style\n",
        "    .hide(axis='index')\n",
        "    .apply(highlight_max, props='color:white;background-color:gray', axis=1)\n",
        ")\n",
        "display(results)\n",
        "display(Markdown(f'### O melhor modelo é o : **{winner}**'))"
      ],
      "metadata": {
        "colab": {
          "base_uri": "https://localhost:8080/",
          "height": 523
        },
        "id": "2dLVcY1dGJg4",
        "outputId": "2941862d-6e76-44cc-a93f-5d8f2edf3f4c"
      },
      "execution_count": 161,
      "outputs": [
        {
          "output_type": "display_data",
          "data": {
            "text/plain": [
              "<pandas.io.formats.style.Styler at 0x7f3be2978df0>"
            ],
            "text/html": [
              "<style type=\"text/css\">\n",
              "#T_0dc82_row0_col6, #T_0dc82_row1_col4, #T_0dc82_row2_col8, #T_0dc82_row3_col1, #T_0dc82_row4_col4, #T_0dc82_row5_col6 {\n",
              "  color: white;\n",
              "  background-color: gray;\n",
              "}\n",
              "</style>\n",
              "<table id=\"T_0dc82\" class=\"dataframe\">\n",
              "  <thead>\n",
              "    <tr>\n",
              "      <th id=\"T_0dc82_level0_col0\" class=\"col_heading level0 col0\" >score</th>\n",
              "      <th id=\"T_0dc82_level0_col1\" class=\"col_heading level0 col1\" >DecisionTreeClassifier</th>\n",
              "      <th id=\"T_0dc82_level0_col2\" class=\"col_heading level0 col2\" >GradientBoostingClassifier</th>\n",
              "      <th id=\"T_0dc82_level0_col3\" class=\"col_heading level0 col3\" >KNN</th>\n",
              "      <th id=\"T_0dc82_level0_col4\" class=\"col_heading level0 col4\" >LinearDiscriminantAnalysis</th>\n",
              "      <th id=\"T_0dc82_level0_col5\" class=\"col_heading level0 col5\" >Logistic Regr</th>\n",
              "      <th id=\"T_0dc82_level0_col6\" class=\"col_heading level0 col6\" >PassiveAggressiveClassifier</th>\n",
              "      <th id=\"T_0dc82_level0_col7\" class=\"col_heading level0 col7\" >QuadraticDiscriminantAnalysis</th>\n",
              "      <th id=\"T_0dc82_level0_col8\" class=\"col_heading level0 col8\" >RandomForestClassifier</th>\n",
              "    </tr>\n",
              "  </thead>\n",
              "  <tbody>\n",
              "    <tr>\n",
              "      <td id=\"T_0dc82_row0_col0\" class=\"data row0 col0\" >fit_time</td>\n",
              "      <td id=\"T_0dc82_row0_col1\" class=\"data row0 col1\" >0.830 ± 0.251</td>\n",
              "      <td id=\"T_0dc82_row0_col2\" class=\"data row0 col2\" >6.780 ± 1.085</td>\n",
              "      <td id=\"T_0dc82_row0_col3\" class=\"data row0 col3\" >6.529 ± 1.105</td>\n",
              "      <td id=\"T_0dc82_row0_col4\" class=\"data row0 col4\" >0.218 ± 0.014</td>\n",
              "      <td id=\"T_0dc82_row0_col5\" class=\"data row0 col5\" >1.361 ± 0.329</td>\n",
              "      <td id=\"T_0dc82_row0_col6\" class=\"data row0 col6\" >0.194 ± 0.016</td>\n",
              "      <td id=\"T_0dc82_row0_col7\" class=\"data row0 col7\" >0.226 ± 0.041</td>\n",
              "      <td id=\"T_0dc82_row0_col8\" class=\"data row0 col8\" >48.588 ± 1.638</td>\n",
              "    </tr>\n",
              "    <tr>\n",
              "      <td id=\"T_0dc82_row1_col0\" class=\"data row1 col0\" >score_time</td>\n",
              "      <td id=\"T_0dc82_row1_col1\" class=\"data row1 col1\" >0.062 ± 0.025</td>\n",
              "      <td id=\"T_0dc82_row1_col2\" class=\"data row1 col2\" >0.058 ± 0.020</td>\n",
              "      <td id=\"T_0dc82_row1_col3\" class=\"data row1 col3\" >0.396 ± 0.121</td>\n",
              "      <td id=\"T_0dc82_row1_col4\" class=\"data row1 col4\" >0.049 ± 0.008</td>\n",
              "      <td id=\"T_0dc82_row1_col5\" class=\"data row1 col5\" >0.053 ± 0.019</td>\n",
              "      <td id=\"T_0dc82_row1_col6\" class=\"data row1 col6\" >0.054 ± 0.009</td>\n",
              "      <td id=\"T_0dc82_row1_col7\" class=\"data row1 col7\" >0.087 ± 0.027</td>\n",
              "      <td id=\"T_0dc82_row1_col8\" class=\"data row1 col8\" >0.128 ± 0.050</td>\n",
              "    </tr>\n",
              "    <tr>\n",
              "      <td id=\"T_0dc82_row2_col0\" class=\"data row2 col0\" >test_accuracy</td>\n",
              "      <td id=\"T_0dc82_row2_col1\" class=\"data row2 col1\" >0.884 ± 0.005</td>\n",
              "      <td id=\"T_0dc82_row2_col2\" class=\"data row2 col2\" >0.920 ± 0.005</td>\n",
              "      <td id=\"T_0dc82_row2_col3\" class=\"data row2 col3\" >0.926 ± 0.002</td>\n",
              "      <td id=\"T_0dc82_row2_col4\" class=\"data row2 col4\" >0.926 ± 0.001</td>\n",
              "      <td id=\"T_0dc82_row2_col5\" class=\"data row2 col5\" >0.927 ± 0.001</td>\n",
              "      <td id=\"T_0dc82_row2_col6\" class=\"data row2 col6\" >0.846 ± 0.074</td>\n",
              "      <td id=\"T_0dc82_row2_col7\" class=\"data row2 col7\" >0.915 ± 0.003</td>\n",
              "      <td id=\"T_0dc82_row2_col8\" class=\"data row2 col8\" >0.929 ± 0.002</td>\n",
              "    </tr>\n",
              "    <tr>\n",
              "      <td id=\"T_0dc82_row3_col0\" class=\"data row3 col0\" >test_f1</td>\n",
              "      <td id=\"T_0dc82_row3_col1\" class=\"data row3 col1\" >0.284 ± 0.023</td>\n",
              "      <td id=\"T_0dc82_row3_col2\" class=\"data row3 col2\" >0.259 ± 0.185</td>\n",
              "      <td id=\"T_0dc82_row3_col3\" class=\"data row3 col3\" >0.164 ± 0.033</td>\n",
              "      <td id=\"T_0dc82_row3_col4\" class=\"data row3 col4\" >0.167 ± 0.022</td>\n",
              "      <td id=\"T_0dc82_row3_col5\" class=\"data row3 col5\" >0.177 ± 0.023</td>\n",
              "      <td id=\"T_0dc82_row3_col6\" class=\"data row3 col6\" >0.193 ± 0.116</td>\n",
              "      <td id=\"T_0dc82_row3_col7\" class=\"data row3 col7\" >0.159 ± 0.019</td>\n",
              "      <td id=\"T_0dc82_row3_col8\" class=\"data row3 col8\" >0.262 ± 0.034</td>\n",
              "    </tr>\n",
              "    <tr>\n",
              "      <td id=\"T_0dc82_row4_col0\" class=\"data row4 col0\" >test_precision</td>\n",
              "      <td id=\"T_0dc82_row4_col1\" class=\"data row4 col1\" >0.273 ± 0.022</td>\n",
              "      <td id=\"T_0dc82_row4_col2\" class=\"data row4 col2\" >0.323 ± 0.236</td>\n",
              "      <td id=\"T_0dc82_row4_col3\" class=\"data row4 col3\" >0.676 ± 0.089</td>\n",
              "      <td id=\"T_0dc82_row4_col4\" class=\"data row4 col4\" >0.702 ± 0.063</td>\n",
              "      <td id=\"T_0dc82_row4_col5\" class=\"data row4 col5\" >0.699 ± 0.061</td>\n",
              "      <td id=\"T_0dc82_row4_col6\" class=\"data row4 col6\" >0.293 ± 0.234</td>\n",
              "      <td id=\"T_0dc82_row4_col7\" class=\"data row4 col7\" >0.342 ± 0.045</td>\n",
              "      <td id=\"T_0dc82_row4_col8\" class=\"data row4 col8\" >0.673 ± 0.039</td>\n",
              "    </tr>\n",
              "    <tr>\n",
              "      <td id=\"T_0dc82_row5_col0\" class=\"data row5 col0\" >test_recall</td>\n",
              "      <td id=\"T_0dc82_row5_col1\" class=\"data row5 col1\" >0.296 ± 0.028</td>\n",
              "      <td id=\"T_0dc82_row5_col2\" class=\"data row5 col2\" >0.222 ± 0.163</td>\n",
              "      <td id=\"T_0dc82_row5_col3\" class=\"data row5 col3\" >0.094 ± 0.022</td>\n",
              "      <td id=\"T_0dc82_row5_col4\" class=\"data row5 col4\" >0.095 ± 0.014</td>\n",
              "      <td id=\"T_0dc82_row5_col5\" class=\"data row5 col5\" >0.102 ± 0.015</td>\n",
              "      <td id=\"T_0dc82_row5_col6\" class=\"data row5 col6\" >0.299 ± 0.236</td>\n",
              "      <td id=\"T_0dc82_row5_col7\" class=\"data row5 col7\" >0.104 ± 0.014</td>\n",
              "      <td id=\"T_0dc82_row5_col8\" class=\"data row5 col8\" >0.163 ± 0.026</td>\n",
              "    </tr>\n",
              "  </tbody>\n",
              "</table>\n"
            ]
          },
          "metadata": {}
        },
        {
          "output_type": "display_data",
          "data": {
            "text/plain": [
              "<IPython.core.display.Markdown object>"
            ],
            "text/markdown": "### O melhor modelo é o : **RandomForestClassifier**"
          },
          "metadata": {}
        }
      ]
    },
    {
      "cell_type": "code",
      "source": [
        "df_original.info()"
      ],
      "metadata": {
        "colab": {
          "base_uri": "https://localhost:8080/"
        },
        "id": "ilwUK5Zb-21v",
        "outputId": "92be049e-f878-4c60-df08-277c31ab5c2f"
      },
      "execution_count": 162,
      "outputs": [
        {
          "output_type": "stream",
          "name": "stdout",
          "text": [
            "<class 'pandas.core.frame.DataFrame'>\n",
            "RangeIndex: 17549 entries, 0 to 17548\n",
            "Data columns (total 8 columns):\n",
            " #   Column     Non-Null Count  Dtype   \n",
            "---  ------     --------------  -----   \n",
            " 0   age        17549 non-null  float64 \n",
            " 1   male       17549 non-null  int64   \n",
            " 2   weight     17549 non-null  float64 \n",
            " 3   height     17549 non-null  float64 \n",
            " 4   bmi        17549 non-null  float64 \n",
            " 5   futime     17549 non-null  float64 \n",
            " 6   status     17549 non-null  int64   \n",
            " 7   extra_col  16830 non-null  category\n",
            "dtypes: category(1), float64(5), int64(2)\n",
            "memory usage: 977.2 KB\n"
          ]
        }
      ]
    },
    {
      "cell_type": "code",
      "source": [
        "#UnderSampling\n",
        "rus = RandomUnderSampler(random_state=0)\n",
        "x_resampled, y_resampled = rus.fit_resample(X, y)\n",
        "\n",
        "#OverSampling\n",
        "ros = RandomOverSampler(random_state = 32)\n",
        "X_over, y_over = ros.fit_resample(X, y)"
      ],
      "metadata": {
        "id": "jH3ZKIOh-7CO"
      },
      "execution_count": 163,
      "outputs": []
    },
    {
      "cell_type": "code",
      "source": [
        "results_under = {}\n",
        "for model_name, model, model_params in models:\n",
        "    print(f'{model_name} run...')\n",
        "\n",
        "    model_gs = GridSearchCV(model, model_params, scoring='accuracy')\n",
        "    approach = Pipeline([\n",
        "        (\"preprocessing\", preprocessing),\n",
        "        (\"model\", model_gs)\n",
        "    ])\n",
        "    model_results = cross_validate(\n",
        "        approach,\n",
        "        X=x_resampled,\n",
        "        y=y_resampled,\n",
        "        scoring=['accuracy', 'f1', 'precision', 'recall'], #Critérios de avaliação\n",
        "        cv=cv,\n",
        "        n_jobs=-1,\n",
        "        return_train_score=False\n",
        "    )\n",
        "    model_results['name'] = [model_name] * len(model_results['score_time'])\n",
        "    if results_under:\n",
        "        for key, value in model_results.items():\n",
        "            results_under[key] = np.append(results_under[key], value)\n",
        "    else:\n",
        "        results_under = model_results"
      ],
      "metadata": {
        "colab": {
          "base_uri": "https://localhost:8080/"
        },
        "id": "b9lOCgZmWEJ9",
        "outputId": "3efffa13-e11d-4be7-eb4e-f4299ff19e1b"
      },
      "execution_count": 164,
      "outputs": [
        {
          "output_type": "stream",
          "name": "stdout",
          "text": [
            "Logistic Regr run...\n",
            "KNN run...\n",
            "PassiveAggressiveClassifier run...\n",
            "DecisionTreeClassifier run...\n",
            "RandomForestClassifier run...\n",
            "GradientBoostingClassifier run...\n",
            "LinearDiscriminantAnalysis run...\n",
            "QuadraticDiscriminantAnalysis run...\n"
          ]
        }
      ]
    },
    {
      "cell_type": "code",
      "source": [
        "df_results_under = pd.DataFrame(results_under)\n",
        "df_results_under.groupby('name').agg([np.mean, np.std])"
      ],
      "metadata": {
        "colab": {
          "base_uri": "https://localhost:8080/",
          "height": 407
        },
        "id": "Vw0WHz-nZ9V1",
        "outputId": "06be349f-7b08-4017-c39e-c998bc753e37"
      },
      "execution_count": 165,
      "outputs": [
        {
          "output_type": "execute_result",
          "data": {
            "text/plain": [
              "                                fit_time           score_time            \\\n",
              "                                    mean       std       mean       std   \n",
              "name                                                                      \n",
              "DecisionTreeClassifier          0.139988  0.005454   0.047290  0.006313   \n",
              "GradientBoostingClassifier      1.731787  0.476231   0.053651  0.017827   \n",
              "KNN                             1.168744  0.276014   0.104264  0.036744   \n",
              "LinearDiscriminantAnalysis      0.095668  0.007194   0.041869  0.004856   \n",
              "Logistic Regr                   0.411801  0.031902   0.049996  0.010258   \n",
              "PassiveAggressiveClassifier     0.174796  0.043309   0.075223  0.023909   \n",
              "QuadraticDiscriminantAnalysis   0.079781  0.008700   0.043665  0.004985   \n",
              "RandomForestClassifier         14.126039  0.627513   0.072889  0.019941   \n",
              "\n",
              "                              test_accuracy             test_f1            \\\n",
              "                                       mean       std      mean       std   \n",
              "name                                                                        \n",
              "DecisionTreeClassifier             0.671123  0.021002  0.672006  0.024268   \n",
              "GradientBoostingClassifier         0.743101  0.019918  0.736581  0.020122   \n",
              "KNN                                0.731990  0.016447  0.719394  0.018225   \n",
              "LinearDiscriminantAnalysis         0.738217  0.017835  0.739847  0.017423   \n",
              "Logistic Regr                      0.738706  0.018342  0.739125  0.018058   \n",
              "PassiveAggressiveClassifier        0.629426  0.079786  0.606550  0.145461   \n",
              "QuadraticDiscriminantAnalysis      0.735958  0.018290  0.728307  0.019632   \n",
              "RandomForestClassifier             0.745665  0.020251  0.729558  0.021978   \n",
              "\n",
              "                              test_precision           test_recall            \n",
              "                                        mean       std        mean       std  \n",
              "name                                                                          \n",
              "DecisionTreeClassifier              0.669994  0.020375    0.674725  0.035232  \n",
              "GradientBoostingClassifier          0.756161  0.024182    0.718437  0.024273  \n",
              "KNN                                 0.755197  0.021952    0.687546  0.026920  \n",
              "LinearDiscriminantAnalysis          0.735661  0.021095    0.744567  0.022965  \n",
              "Logistic Regr                       0.738337  0.021741    0.740415  0.023636  \n",
              "PassiveAggressiveClassifier         0.647631  0.129588    0.620513  0.213873  \n",
              "QuadraticDiscriminantAnalysis       0.750445  0.023817    0.708181  0.027752  \n",
              "RandomForestClassifier              0.779485  0.028727    0.686447  0.028756  "
            ],
            "text/html": [
              "\n",
              "  <div id=\"df-f54673d1-29f3-4945-82c2-5564cff3028a\">\n",
              "    <div class=\"colab-df-container\">\n",
              "      <div>\n",
              "<style scoped>\n",
              "    .dataframe tbody tr th:only-of-type {\n",
              "        vertical-align: middle;\n",
              "    }\n",
              "\n",
              "    .dataframe tbody tr th {\n",
              "        vertical-align: top;\n",
              "    }\n",
              "\n",
              "    .dataframe thead tr th {\n",
              "        text-align: left;\n",
              "    }\n",
              "\n",
              "    .dataframe thead tr:last-of-type th {\n",
              "        text-align: right;\n",
              "    }\n",
              "</style>\n",
              "<table border=\"1\" class=\"dataframe\">\n",
              "  <thead>\n",
              "    <tr>\n",
              "      <th></th>\n",
              "      <th colspan=\"2\" halign=\"left\">fit_time</th>\n",
              "      <th colspan=\"2\" halign=\"left\">score_time</th>\n",
              "      <th colspan=\"2\" halign=\"left\">test_accuracy</th>\n",
              "      <th colspan=\"2\" halign=\"left\">test_f1</th>\n",
              "      <th colspan=\"2\" halign=\"left\">test_precision</th>\n",
              "      <th colspan=\"2\" halign=\"left\">test_recall</th>\n",
              "    </tr>\n",
              "    <tr>\n",
              "      <th></th>\n",
              "      <th>mean</th>\n",
              "      <th>std</th>\n",
              "      <th>mean</th>\n",
              "      <th>std</th>\n",
              "      <th>mean</th>\n",
              "      <th>std</th>\n",
              "      <th>mean</th>\n",
              "      <th>std</th>\n",
              "      <th>mean</th>\n",
              "      <th>std</th>\n",
              "      <th>mean</th>\n",
              "      <th>std</th>\n",
              "    </tr>\n",
              "    <tr>\n",
              "      <th>name</th>\n",
              "      <th></th>\n",
              "      <th></th>\n",
              "      <th></th>\n",
              "      <th></th>\n",
              "      <th></th>\n",
              "      <th></th>\n",
              "      <th></th>\n",
              "      <th></th>\n",
              "      <th></th>\n",
              "      <th></th>\n",
              "      <th></th>\n",
              "      <th></th>\n",
              "    </tr>\n",
              "  </thead>\n",
              "  <tbody>\n",
              "    <tr>\n",
              "      <th>DecisionTreeClassifier</th>\n",
              "      <td>0.139988</td>\n",
              "      <td>0.005454</td>\n",
              "      <td>0.047290</td>\n",
              "      <td>0.006313</td>\n",
              "      <td>0.671123</td>\n",
              "      <td>0.021002</td>\n",
              "      <td>0.672006</td>\n",
              "      <td>0.024268</td>\n",
              "      <td>0.669994</td>\n",
              "      <td>0.020375</td>\n",
              "      <td>0.674725</td>\n",
              "      <td>0.035232</td>\n",
              "    </tr>\n",
              "    <tr>\n",
              "      <th>GradientBoostingClassifier</th>\n",
              "      <td>1.731787</td>\n",
              "      <td>0.476231</td>\n",
              "      <td>0.053651</td>\n",
              "      <td>0.017827</td>\n",
              "      <td>0.743101</td>\n",
              "      <td>0.019918</td>\n",
              "      <td>0.736581</td>\n",
              "      <td>0.020122</td>\n",
              "      <td>0.756161</td>\n",
              "      <td>0.024182</td>\n",
              "      <td>0.718437</td>\n",
              "      <td>0.024273</td>\n",
              "    </tr>\n",
              "    <tr>\n",
              "      <th>KNN</th>\n",
              "      <td>1.168744</td>\n",
              "      <td>0.276014</td>\n",
              "      <td>0.104264</td>\n",
              "      <td>0.036744</td>\n",
              "      <td>0.731990</td>\n",
              "      <td>0.016447</td>\n",
              "      <td>0.719394</td>\n",
              "      <td>0.018225</td>\n",
              "      <td>0.755197</td>\n",
              "      <td>0.021952</td>\n",
              "      <td>0.687546</td>\n",
              "      <td>0.026920</td>\n",
              "    </tr>\n",
              "    <tr>\n",
              "      <th>LinearDiscriminantAnalysis</th>\n",
              "      <td>0.095668</td>\n",
              "      <td>0.007194</td>\n",
              "      <td>0.041869</td>\n",
              "      <td>0.004856</td>\n",
              "      <td>0.738217</td>\n",
              "      <td>0.017835</td>\n",
              "      <td>0.739847</td>\n",
              "      <td>0.017423</td>\n",
              "      <td>0.735661</td>\n",
              "      <td>0.021095</td>\n",
              "      <td>0.744567</td>\n",
              "      <td>0.022965</td>\n",
              "    </tr>\n",
              "    <tr>\n",
              "      <th>Logistic Regr</th>\n",
              "      <td>0.411801</td>\n",
              "      <td>0.031902</td>\n",
              "      <td>0.049996</td>\n",
              "      <td>0.010258</td>\n",
              "      <td>0.738706</td>\n",
              "      <td>0.018342</td>\n",
              "      <td>0.739125</td>\n",
              "      <td>0.018058</td>\n",
              "      <td>0.738337</td>\n",
              "      <td>0.021741</td>\n",
              "      <td>0.740415</td>\n",
              "      <td>0.023636</td>\n",
              "    </tr>\n",
              "    <tr>\n",
              "      <th>PassiveAggressiveClassifier</th>\n",
              "      <td>0.174796</td>\n",
              "      <td>0.043309</td>\n",
              "      <td>0.075223</td>\n",
              "      <td>0.023909</td>\n",
              "      <td>0.629426</td>\n",
              "      <td>0.079786</td>\n",
              "      <td>0.606550</td>\n",
              "      <td>0.145461</td>\n",
              "      <td>0.647631</td>\n",
              "      <td>0.129588</td>\n",
              "      <td>0.620513</td>\n",
              "      <td>0.213873</td>\n",
              "    </tr>\n",
              "    <tr>\n",
              "      <th>QuadraticDiscriminantAnalysis</th>\n",
              "      <td>0.079781</td>\n",
              "      <td>0.008700</td>\n",
              "      <td>0.043665</td>\n",
              "      <td>0.004985</td>\n",
              "      <td>0.735958</td>\n",
              "      <td>0.018290</td>\n",
              "      <td>0.728307</td>\n",
              "      <td>0.019632</td>\n",
              "      <td>0.750445</td>\n",
              "      <td>0.023817</td>\n",
              "      <td>0.708181</td>\n",
              "      <td>0.027752</td>\n",
              "    </tr>\n",
              "    <tr>\n",
              "      <th>RandomForestClassifier</th>\n",
              "      <td>14.126039</td>\n",
              "      <td>0.627513</td>\n",
              "      <td>0.072889</td>\n",
              "      <td>0.019941</td>\n",
              "      <td>0.745665</td>\n",
              "      <td>0.020251</td>\n",
              "      <td>0.729558</td>\n",
              "      <td>0.021978</td>\n",
              "      <td>0.779485</td>\n",
              "      <td>0.028727</td>\n",
              "      <td>0.686447</td>\n",
              "      <td>0.028756</td>\n",
              "    </tr>\n",
              "  </tbody>\n",
              "</table>\n",
              "</div>\n",
              "      <button class=\"colab-df-convert\" onclick=\"convertToInteractive('df-f54673d1-29f3-4945-82c2-5564cff3028a')\"\n",
              "              title=\"Convert this dataframe to an interactive table.\"\n",
              "              style=\"display:none;\">\n",
              "        \n",
              "  <svg xmlns=\"http://www.w3.org/2000/svg\" height=\"24px\"viewBox=\"0 0 24 24\"\n",
              "       width=\"24px\">\n",
              "    <path d=\"M0 0h24v24H0V0z\" fill=\"none\"/>\n",
              "    <path d=\"M18.56 5.44l.94 2.06.94-2.06 2.06-.94-2.06-.94-.94-2.06-.94 2.06-2.06.94zm-11 1L8.5 8.5l.94-2.06 2.06-.94-2.06-.94L8.5 2.5l-.94 2.06-2.06.94zm10 10l.94 2.06.94-2.06 2.06-.94-2.06-.94-.94-2.06-.94 2.06-2.06.94z\"/><path d=\"M17.41 7.96l-1.37-1.37c-.4-.4-.92-.59-1.43-.59-.52 0-1.04.2-1.43.59L10.3 9.45l-7.72 7.72c-.78.78-.78 2.05 0 2.83L4 21.41c.39.39.9.59 1.41.59.51 0 1.02-.2 1.41-.59l7.78-7.78 2.81-2.81c.8-.78.8-2.07 0-2.86zM5.41 20L4 18.59l7.72-7.72 1.47 1.35L5.41 20z\"/>\n",
              "  </svg>\n",
              "      </button>\n",
              "      \n",
              "  <style>\n",
              "    .colab-df-container {\n",
              "      display:flex;\n",
              "      flex-wrap:wrap;\n",
              "      gap: 12px;\n",
              "    }\n",
              "\n",
              "    .colab-df-convert {\n",
              "      background-color: #E8F0FE;\n",
              "      border: none;\n",
              "      border-radius: 50%;\n",
              "      cursor: pointer;\n",
              "      display: none;\n",
              "      fill: #1967D2;\n",
              "      height: 32px;\n",
              "      padding: 0 0 0 0;\n",
              "      width: 32px;\n",
              "    }\n",
              "\n",
              "    .colab-df-convert:hover {\n",
              "      background-color: #E2EBFA;\n",
              "      box-shadow: 0px 1px 2px rgba(60, 64, 67, 0.3), 0px 1px 3px 1px rgba(60, 64, 67, 0.15);\n",
              "      fill: #174EA6;\n",
              "    }\n",
              "\n",
              "    [theme=dark] .colab-df-convert {\n",
              "      background-color: #3B4455;\n",
              "      fill: #D2E3FC;\n",
              "    }\n",
              "\n",
              "    [theme=dark] .colab-df-convert:hover {\n",
              "      background-color: #434B5C;\n",
              "      box-shadow: 0px 1px 3px 1px rgba(0, 0, 0, 0.15);\n",
              "      filter: drop-shadow(0px 1px 2px rgba(0, 0, 0, 0.3));\n",
              "      fill: #FFFFFF;\n",
              "    }\n",
              "  </style>\n",
              "\n",
              "      <script>\n",
              "        const buttonEl =\n",
              "          document.querySelector('#df-f54673d1-29f3-4945-82c2-5564cff3028a button.colab-df-convert');\n",
              "        buttonEl.style.display =\n",
              "          google.colab.kernel.accessAllowed ? 'block' : 'none';\n",
              "\n",
              "        async function convertToInteractive(key) {\n",
              "          const element = document.querySelector('#df-f54673d1-29f3-4945-82c2-5564cff3028a');\n",
              "          const dataTable =\n",
              "            await google.colab.kernel.invokeFunction('convertToInteractive',\n",
              "                                                     [key], {});\n",
              "          if (!dataTable) return;\n",
              "\n",
              "          const docLinkHtml = 'Like what you see? Visit the ' +\n",
              "            '<a target=\"_blank\" href=https://colab.research.google.com/notebooks/data_table.ipynb>data table notebook</a>'\n",
              "            + ' to learn more about interactive tables.';\n",
              "          element.innerHTML = '';\n",
              "          dataTable['output_type'] = 'display_data';\n",
              "          await google.colab.output.renderOutput(dataTable, element);\n",
              "          const docLink = document.createElement('div');\n",
              "          docLink.innerHTML = docLinkHtml;\n",
              "          element.appendChild(docLink);\n",
              "        }\n",
              "      </script>\n",
              "    </div>\n",
              "  </div>\n",
              "  "
            ]
          },
          "metadata": {},
          "execution_count": 165
        }
      ]
    },
    {
      "cell_type": "code",
      "source": [
        "results_under = (\n",
        "    pd\n",
        "    .DataFrame(df_results_under)\n",
        "    .groupby(['name'])\n",
        "    .agg([lambda x: f\"{np.mean(x):.3f} ± {np.std(x):.3f}\"])#\n",
        "    .transpose()\n",
        "    .reset_index()\n",
        "    .rename(columns={\"level_0\": \"score\"})\n",
        "    .drop(columns=\"level_1\")\n",
        "    # .set_index('score')\n",
        ")\n",
        "time_scores = ['fit_time', 'score_time']\n",
        "winner = results_under.query('score not in @time_scores').apply(get_winner, axis=1).value_counts().index[0]\n",
        "results_under.columns.name = ''\n",
        "results_under = (\n",
        "    results_under\n",
        "    .style\n",
        "    .hide(axis='index')\n",
        "    .apply(highlight_max, props='color:white;background-color:gray', axis=1)\n",
        ")\n",
        "display(results_under)\n",
        "display(Markdown(f'### O melhor modelo é o : **{winner}**'))"
      ],
      "metadata": {
        "colab": {
          "base_uri": "https://localhost:8080/",
          "height": 523
        },
        "id": "3Gr7Vo9nbaaH",
        "outputId": "400d5901-ca0b-4617-dc55-78dc612524e4"
      },
      "execution_count": 166,
      "outputs": [
        {
          "output_type": "display_data",
          "data": {
            "text/plain": [
              "<pandas.io.formats.style.Styler at 0x7f3be8145c60>"
            ],
            "text/html": [
              "<style type=\"text/css\">\n",
              "#T_e367f_row0_col7, #T_e367f_row1_col4, #T_e367f_row2_col8, #T_e367f_row3_col4, #T_e367f_row4_col8, #T_e367f_row5_col4 {\n",
              "  color: white;\n",
              "  background-color: gray;\n",
              "}\n",
              "</style>\n",
              "<table id=\"T_e367f\" class=\"dataframe\">\n",
              "  <thead>\n",
              "    <tr>\n",
              "      <th id=\"T_e367f_level0_col0\" class=\"col_heading level0 col0\" >score</th>\n",
              "      <th id=\"T_e367f_level0_col1\" class=\"col_heading level0 col1\" >DecisionTreeClassifier</th>\n",
              "      <th id=\"T_e367f_level0_col2\" class=\"col_heading level0 col2\" >GradientBoostingClassifier</th>\n",
              "      <th id=\"T_e367f_level0_col3\" class=\"col_heading level0 col3\" >KNN</th>\n",
              "      <th id=\"T_e367f_level0_col4\" class=\"col_heading level0 col4\" >LinearDiscriminantAnalysis</th>\n",
              "      <th id=\"T_e367f_level0_col5\" class=\"col_heading level0 col5\" >Logistic Regr</th>\n",
              "      <th id=\"T_e367f_level0_col6\" class=\"col_heading level0 col6\" >PassiveAggressiveClassifier</th>\n",
              "      <th id=\"T_e367f_level0_col7\" class=\"col_heading level0 col7\" >QuadraticDiscriminantAnalysis</th>\n",
              "      <th id=\"T_e367f_level0_col8\" class=\"col_heading level0 col8\" >RandomForestClassifier</th>\n",
              "    </tr>\n",
              "  </thead>\n",
              "  <tbody>\n",
              "    <tr>\n",
              "      <td id=\"T_e367f_row0_col0\" class=\"data row0 col0\" >fit_time</td>\n",
              "      <td id=\"T_e367f_row0_col1\" class=\"data row0 col1\" >0.140 ± 0.005</td>\n",
              "      <td id=\"T_e367f_row0_col2\" class=\"data row0 col2\" >1.732 ± 0.468</td>\n",
              "      <td id=\"T_e367f_row0_col3\" class=\"data row0 col3\" >1.169 ± 0.271</td>\n",
              "      <td id=\"T_e367f_row0_col4\" class=\"data row0 col4\" >0.096 ± 0.007</td>\n",
              "      <td id=\"T_e367f_row0_col5\" class=\"data row0 col5\" >0.412 ± 0.031</td>\n",
              "      <td id=\"T_e367f_row0_col6\" class=\"data row0 col6\" >0.175 ± 0.043</td>\n",
              "      <td id=\"T_e367f_row0_col7\" class=\"data row0 col7\" >0.080 ± 0.009</td>\n",
              "      <td id=\"T_e367f_row0_col8\" class=\"data row0 col8\" >14.126 ± 0.617</td>\n",
              "    </tr>\n",
              "    <tr>\n",
              "      <td id=\"T_e367f_row1_col0\" class=\"data row1 col0\" >score_time</td>\n",
              "      <td id=\"T_e367f_row1_col1\" class=\"data row1 col1\" >0.047 ± 0.006</td>\n",
              "      <td id=\"T_e367f_row1_col2\" class=\"data row1 col2\" >0.054 ± 0.018</td>\n",
              "      <td id=\"T_e367f_row1_col3\" class=\"data row1 col3\" >0.104 ± 0.036</td>\n",
              "      <td id=\"T_e367f_row1_col4\" class=\"data row1 col4\" >0.042 ± 0.005</td>\n",
              "      <td id=\"T_e367f_row1_col5\" class=\"data row1 col5\" >0.050 ± 0.010</td>\n",
              "      <td id=\"T_e367f_row1_col6\" class=\"data row1 col6\" >0.075 ± 0.024</td>\n",
              "      <td id=\"T_e367f_row1_col7\" class=\"data row1 col7\" >0.044 ± 0.005</td>\n",
              "      <td id=\"T_e367f_row1_col8\" class=\"data row1 col8\" >0.073 ± 0.020</td>\n",
              "    </tr>\n",
              "    <tr>\n",
              "      <td id=\"T_e367f_row2_col0\" class=\"data row2 col0\" >test_accuracy</td>\n",
              "      <td id=\"T_e367f_row2_col1\" class=\"data row2 col1\" >0.671 ± 0.021</td>\n",
              "      <td id=\"T_e367f_row2_col2\" class=\"data row2 col2\" >0.743 ± 0.020</td>\n",
              "      <td id=\"T_e367f_row2_col3\" class=\"data row2 col3\" >0.732 ± 0.016</td>\n",
              "      <td id=\"T_e367f_row2_col4\" class=\"data row2 col4\" >0.738 ± 0.018</td>\n",
              "      <td id=\"T_e367f_row2_col5\" class=\"data row2 col5\" >0.739 ± 0.018</td>\n",
              "      <td id=\"T_e367f_row2_col6\" class=\"data row2 col6\" >0.629 ± 0.078</td>\n",
              "      <td id=\"T_e367f_row2_col7\" class=\"data row2 col7\" >0.736 ± 0.018</td>\n",
              "      <td id=\"T_e367f_row2_col8\" class=\"data row2 col8\" >0.746 ± 0.020</td>\n",
              "    </tr>\n",
              "    <tr>\n",
              "      <td id=\"T_e367f_row3_col0\" class=\"data row3 col0\" >test_f1</td>\n",
              "      <td id=\"T_e367f_row3_col1\" class=\"data row3 col1\" >0.672 ± 0.024</td>\n",
              "      <td id=\"T_e367f_row3_col2\" class=\"data row3 col2\" >0.737 ± 0.020</td>\n",
              "      <td id=\"T_e367f_row3_col3\" class=\"data row3 col3\" >0.719 ± 0.018</td>\n",
              "      <td id=\"T_e367f_row3_col4\" class=\"data row3 col4\" >0.740 ± 0.017</td>\n",
              "      <td id=\"T_e367f_row3_col5\" class=\"data row3 col5\" >0.739 ± 0.018</td>\n",
              "      <td id=\"T_e367f_row3_col6\" class=\"data row3 col6\" >0.607 ± 0.143</td>\n",
              "      <td id=\"T_e367f_row3_col7\" class=\"data row3 col7\" >0.728 ± 0.019</td>\n",
              "      <td id=\"T_e367f_row3_col8\" class=\"data row3 col8\" >0.730 ± 0.022</td>\n",
              "    </tr>\n",
              "    <tr>\n",
              "      <td id=\"T_e367f_row4_col0\" class=\"data row4 col0\" >test_precision</td>\n",
              "      <td id=\"T_e367f_row4_col1\" class=\"data row4 col1\" >0.670 ± 0.020</td>\n",
              "      <td id=\"T_e367f_row4_col2\" class=\"data row4 col2\" >0.756 ± 0.024</td>\n",
              "      <td id=\"T_e367f_row4_col3\" class=\"data row4 col3\" >0.755 ± 0.022</td>\n",
              "      <td id=\"T_e367f_row4_col4\" class=\"data row4 col4\" >0.736 ± 0.021</td>\n",
              "      <td id=\"T_e367f_row4_col5\" class=\"data row4 col5\" >0.738 ± 0.021</td>\n",
              "      <td id=\"T_e367f_row4_col6\" class=\"data row4 col6\" >0.648 ± 0.127</td>\n",
              "      <td id=\"T_e367f_row4_col7\" class=\"data row4 col7\" >0.750 ± 0.023</td>\n",
              "      <td id=\"T_e367f_row4_col8\" class=\"data row4 col8\" >0.779 ± 0.028</td>\n",
              "    </tr>\n",
              "    <tr>\n",
              "      <td id=\"T_e367f_row5_col0\" class=\"data row5 col0\" >test_recall</td>\n",
              "      <td id=\"T_e367f_row5_col1\" class=\"data row5 col1\" >0.675 ± 0.035</td>\n",
              "      <td id=\"T_e367f_row5_col2\" class=\"data row5 col2\" >0.718 ± 0.024</td>\n",
              "      <td id=\"T_e367f_row5_col3\" class=\"data row5 col3\" >0.688 ± 0.026</td>\n",
              "      <td id=\"T_e367f_row5_col4\" class=\"data row5 col4\" >0.745 ± 0.023</td>\n",
              "      <td id=\"T_e367f_row5_col5\" class=\"data row5 col5\" >0.740 ± 0.023</td>\n",
              "      <td id=\"T_e367f_row5_col6\" class=\"data row5 col6\" >0.621 ± 0.210</td>\n",
              "      <td id=\"T_e367f_row5_col7\" class=\"data row5 col7\" >0.708 ± 0.027</td>\n",
              "      <td id=\"T_e367f_row5_col8\" class=\"data row5 col8\" >0.686 ± 0.028</td>\n",
              "    </tr>\n",
              "  </tbody>\n",
              "</table>\n"
            ]
          },
          "metadata": {}
        },
        {
          "output_type": "display_data",
          "data": {
            "text/plain": [
              "<IPython.core.display.Markdown object>"
            ],
            "text/markdown": "### O melhor modelo é o : **RandomForestClassifier**"
          },
          "metadata": {}
        }
      ]
    },
    {
      "cell_type": "code",
      "source": [
        "# results_over = {}\n",
        "# for model_name, model, model_params in models:\n",
        "#     print(f'{model_name} run...')\n",
        "\n",
        "#     model_gs = GridSearchCV(model, model_params, scoring='accuracy')\n",
        "#     approach = Pipeline([\n",
        "#         (\"preprocessing\", preprocessing),\n",
        "#         (\"model\", model_gs)\n",
        "#     ])\n",
        "#     model_results = cross_validate(\n",
        "#         approach,\n",
        "#         X=X_over,\n",
        "#         y=y_over,\n",
        "#         scoring=['accuracy', 'f1', 'precision', 'recall'], #Critérios de avaliação\n",
        "#         cv=cv,\n",
        "#         n_jobs=-1,\n",
        "#         return_train_score=False\n",
        "#     )\n",
        "#     model_results['name'] = [model_name] * len(model_results['score_time'])\n",
        "#     if results_over:\n",
        "#         for key, value in model_results.items():\n",
        "#             results_over[key] = np.append(results_over[key], value)\n",
        "#     else:\n",
        "#         results_over = model_results"
      ],
      "metadata": {
        "id": "JGhuz9dws2UB"
      },
      "execution_count": 167,
      "outputs": []
    },
    {
      "cell_type": "code",
      "source": [
        "# df_results_over = pd.DataFrame(results_over)\n",
        "# df_results_over.groupby('name').agg([np.mean, np.std])"
      ],
      "metadata": {
        "id": "n8Q0w_Fls2nZ"
      },
      "execution_count": 168,
      "outputs": []
    },
    {
      "cell_type": "code",
      "source": [
        "# results_over = (\n",
        "#     pd\n",
        "#     .DataFrame(df_results_over)\n",
        "#     .groupby(['name'])\n",
        "#     .agg([lambda x: f\"{np.mean(x):.3f} ± {np.std(x):.3f}\"])#\n",
        "#     .transpose()\n",
        "#     .reset_index()\n",
        "#     .rename(columns={\"level_0\": \"score\"})\n",
        "#     .drop(columns=\"level_1\")\n",
        "#     # .set_index('score')\n",
        "# )\n",
        "# time_scores = ['fit_time', 'score_time']\n",
        "# winner = results_over.query('score not in @time_scores').apply(get_winner, axis=1).value_counts().index[0]\n",
        "# results_over.columns.name = ''\n",
        "# results_over = (\n",
        "#     results_over\n",
        "#     .style\n",
        "#     .hide(axis='index')\n",
        "#     .apply(highlight_max, props='color:white;background-color:gray', axis=1)\n",
        "# )\n",
        "# display(results_over)\n",
        "# display(Markdown(f'### O melhor modelo é o : **{winner}**'))"
      ],
      "metadata": {
        "id": "R1USHY1Qs25x"
      },
      "execution_count": 169,
      "outputs": []
    }
  ]
}