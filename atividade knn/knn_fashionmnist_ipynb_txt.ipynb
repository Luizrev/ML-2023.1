{
  "cells": [
    {
      "cell_type": "markdown",
      "metadata": {
        "id": "wj6dlVMtKHeQ"
      },
      "source": [
        "FONTE: https://www.kaggle.com/zalando-research/fashionmnist\n",
        "\n",
        "### Dataset\n",
        "Fashion-MNIST é um conjunto de dados das imagens dos artigos de Zalando - consistindo em um conjunto de treinamento de 60.000 exemplos e um conjunto de testes de 10.000 exemplos. Cada exemplo é uma imagem em escala de cinza de 28 x 28, associada a um rótulo de 10 classes. Zalando pretende que o Fashion-MNIST sirva como substituto direto do conjunto de dados MNIST original para algoritmos de aprendizado de máquina de benchmarking. Ele compartilha o mesmo tamanho de imagem e estrutura de divisões de treinamento e teste.\n",
        "\n",
        "O conjunto de dados MNIST original contém muitos dígitos manuscritos. Os membros da comunidade de AI / ML / Ciência de dados amam esse conjunto de dados e o usam como referência para validar seus algoritmos. De fato, o MNIST é frequentemente o primeiro grupo de dados que os pesquisadores tentam. \"Se não funcionar no MNIST, não funcionará\", disseram eles. \"Bem, se funcionar no MNIST, ainda poderá falhar nos outros.\"\n",
        "\n",
        "Zalando procura substituir o conjunto de dados MNIST original"
      ]
    },
    {
      "cell_type": "markdown",
      "metadata": {
        "id": "6LFdP-2sKHeb"
      },
      "source": [
        "### Conteúdo\n",
        "Cada imagem tem 28 pixels de altura e 28 pixels de largura, totalizando 784 pixels no total. Cada pixel tem um único valor de pixel associado, indicando a claridade ou a escuridão desse pixel, com números mais altos significando mais escuros. Esse valor de pixel é um número inteiro entre 0 e 255. Os conjuntos de dados de treinamento e teste possuem 785 colunas. A primeira coluna consiste nos rótulos das classes (veja acima) e representa o artigo de vestuário. O restante das colunas contém os valores de pixel da imagem associada.\n",
        "\n",
        "Para localizar um pixel na imagem, suponha que decompusemos x como x = i * 28 + j, onde i e j são números inteiros entre 0 e 27. O pixel está localizado na linha i e na coluna j de uma matriz 28 x 28 .\n",
        "Por exemplo, pixel31 indica o pixel que está na quarta coluna da esquerda e a segunda linha da parte superior, como no diagrama ascii abaixo."
      ]
    },
    {
      "cell_type": "markdown",
      "metadata": {
        "id": "JD5vnl__KHec"
      },
      "source": [
        "Cada exemplo de treinamento e teste é atribuído a um dos seguintes rótulos:\n",
        "\n",
        "0 Camiseta / top\n",
        "\n",
        "1 calça\n",
        "\n",
        "2 Pulôver\n",
        "\n",
        "3 Vestido\n",
        "\n",
        "4 Casaco\n",
        "\n",
        "5 Sandália\n",
        "\n",
        "6 Camisa\n",
        "\n",
        "7 Sapatilha\n",
        "\n",
        "8 Bag\n",
        "\n",
        "9 Bota no tornozelo\n",
        "\n",
        "TL; DR\n",
        "\n",
        "Cada linha é uma imagem separada.\n",
        "A coluna 1 é o rótulo da classe.\n",
        "As colunas restantes são números de pixels (784 no total).\n",
        "Cada valor é a \"escuridão\" do pixel (1 a 255)"
      ]
    },
    {
      "cell_type": "code",
      "execution_count": 1,
      "metadata": {
        "id": "gjGTUm04KHed"
      },
      "outputs": [],
      "source": [
        "import pandas as pd\n",
        "from sklearn.neighbors import KNeighborsClassifier\n",
        "from sklearn import datasets\n",
        "import numpy as np\n",
        "import matplotlib.pyplot as plt\n",
        "from sklearn.model_selection import train_test_split\n",
        "from sklearn.preprocessing import OneHotEncoder\n",
        "from sklearn.metrics import accuracy_score\n",
        "from time import time"
      ]
    },
    {
      "cell_type": "code",
      "source": [
        "from google.colab import drive\n",
        "drive.mount('/content/drive')"
      ],
      "metadata": {
        "colab": {
          "base_uri": "https://localhost:8080/"
        },
        "id": "2MVaAoAukeuA",
        "outputId": "9728ded6-f249-4faf-e00b-0a1d82e666fa"
      },
      "execution_count": 2,
      "outputs": [
        {
          "output_type": "stream",
          "name": "stdout",
          "text": [
            "Mounted at /content/drive\n"
          ]
        }
      ]
    },
    {
      "cell_type": "code",
      "execution_count": 3,
      "metadata": {
        "id": "XhtyhI0yKHef"
      },
      "outputs": [],
      "source": [
        "dataTrain = pd.read_csv('/content/drive/MyDrive/Datasets/Fashionmnist/fashion-mnist_train.csv')\n",
        "dataTest = pd.read_csv('/content/drive/MyDrive/Datasets/Fashionmnist/fashion-mnist_test.csv')"
      ]
    },
    {
      "cell_type": "code",
      "execution_count": 4,
      "metadata": {
        "id": "nol4ptxfKHeg",
        "outputId": "6d04e3f1-f04c-428f-cd20-eecf42a60048",
        "colab": {
          "base_uri": "https://localhost:8080/",
          "height": 300
        }
      },
      "outputs": [
        {
          "output_type": "execute_result",
          "data": {
            "text/plain": [
              "   label  pixel1  pixel2  pixel3  pixel4  pixel5  pixel6  pixel7  pixel8  \\\n",
              "0      2       0       0       0       0       0       0       0       0   \n",
              "1      9       0       0       0       0       0       0       0       0   \n",
              "2      6       0       0       0       0       0       0       0       5   \n",
              "3      0       0       0       0       1       2       0       0       0   \n",
              "4      3       0       0       0       0       0       0       0       0   \n",
              "\n",
              "   pixel9  ...  pixel775  pixel776  pixel777  pixel778  pixel779  pixel780  \\\n",
              "0       0  ...         0         0         0         0         0         0   \n",
              "1       0  ...         0         0         0         0         0         0   \n",
              "2       0  ...         0         0         0        30        43         0   \n",
              "3       0  ...         3         0         0         0         0         1   \n",
              "4       0  ...         0         0         0         0         0         0   \n",
              "\n",
              "   pixel781  pixel782  pixel783  pixel784  \n",
              "0         0         0         0         0  \n",
              "1         0         0         0         0  \n",
              "2         0         0         0         0  \n",
              "3         0         0         0         0  \n",
              "4         0         0         0         0  \n",
              "\n",
              "[5 rows x 785 columns]"
            ],
            "text/html": [
              "\n",
              "  <div id=\"df-49db19a8-17ea-4ffa-9fe3-8f5a23bc6e36\">\n",
              "    <div class=\"colab-df-container\">\n",
              "      <div>\n",
              "<style scoped>\n",
              "    .dataframe tbody tr th:only-of-type {\n",
              "        vertical-align: middle;\n",
              "    }\n",
              "\n",
              "    .dataframe tbody tr th {\n",
              "        vertical-align: top;\n",
              "    }\n",
              "\n",
              "    .dataframe thead th {\n",
              "        text-align: right;\n",
              "    }\n",
              "</style>\n",
              "<table border=\"1\" class=\"dataframe\">\n",
              "  <thead>\n",
              "    <tr style=\"text-align: right;\">\n",
              "      <th></th>\n",
              "      <th>label</th>\n",
              "      <th>pixel1</th>\n",
              "      <th>pixel2</th>\n",
              "      <th>pixel3</th>\n",
              "      <th>pixel4</th>\n",
              "      <th>pixel5</th>\n",
              "      <th>pixel6</th>\n",
              "      <th>pixel7</th>\n",
              "      <th>pixel8</th>\n",
              "      <th>pixel9</th>\n",
              "      <th>...</th>\n",
              "      <th>pixel775</th>\n",
              "      <th>pixel776</th>\n",
              "      <th>pixel777</th>\n",
              "      <th>pixel778</th>\n",
              "      <th>pixel779</th>\n",
              "      <th>pixel780</th>\n",
              "      <th>pixel781</th>\n",
              "      <th>pixel782</th>\n",
              "      <th>pixel783</th>\n",
              "      <th>pixel784</th>\n",
              "    </tr>\n",
              "  </thead>\n",
              "  <tbody>\n",
              "    <tr>\n",
              "      <th>0</th>\n",
              "      <td>2</td>\n",
              "      <td>0</td>\n",
              "      <td>0</td>\n",
              "      <td>0</td>\n",
              "      <td>0</td>\n",
              "      <td>0</td>\n",
              "      <td>0</td>\n",
              "      <td>0</td>\n",
              "      <td>0</td>\n",
              "      <td>0</td>\n",
              "      <td>...</td>\n",
              "      <td>0</td>\n",
              "      <td>0</td>\n",
              "      <td>0</td>\n",
              "      <td>0</td>\n",
              "      <td>0</td>\n",
              "      <td>0</td>\n",
              "      <td>0</td>\n",
              "      <td>0</td>\n",
              "      <td>0</td>\n",
              "      <td>0</td>\n",
              "    </tr>\n",
              "    <tr>\n",
              "      <th>1</th>\n",
              "      <td>9</td>\n",
              "      <td>0</td>\n",
              "      <td>0</td>\n",
              "      <td>0</td>\n",
              "      <td>0</td>\n",
              "      <td>0</td>\n",
              "      <td>0</td>\n",
              "      <td>0</td>\n",
              "      <td>0</td>\n",
              "      <td>0</td>\n",
              "      <td>...</td>\n",
              "      <td>0</td>\n",
              "      <td>0</td>\n",
              "      <td>0</td>\n",
              "      <td>0</td>\n",
              "      <td>0</td>\n",
              "      <td>0</td>\n",
              "      <td>0</td>\n",
              "      <td>0</td>\n",
              "      <td>0</td>\n",
              "      <td>0</td>\n",
              "    </tr>\n",
              "    <tr>\n",
              "      <th>2</th>\n",
              "      <td>6</td>\n",
              "      <td>0</td>\n",
              "      <td>0</td>\n",
              "      <td>0</td>\n",
              "      <td>0</td>\n",
              "      <td>0</td>\n",
              "      <td>0</td>\n",
              "      <td>0</td>\n",
              "      <td>5</td>\n",
              "      <td>0</td>\n",
              "      <td>...</td>\n",
              "      <td>0</td>\n",
              "      <td>0</td>\n",
              "      <td>0</td>\n",
              "      <td>30</td>\n",
              "      <td>43</td>\n",
              "      <td>0</td>\n",
              "      <td>0</td>\n",
              "      <td>0</td>\n",
              "      <td>0</td>\n",
              "      <td>0</td>\n",
              "    </tr>\n",
              "    <tr>\n",
              "      <th>3</th>\n",
              "      <td>0</td>\n",
              "      <td>0</td>\n",
              "      <td>0</td>\n",
              "      <td>0</td>\n",
              "      <td>1</td>\n",
              "      <td>2</td>\n",
              "      <td>0</td>\n",
              "      <td>0</td>\n",
              "      <td>0</td>\n",
              "      <td>0</td>\n",
              "      <td>...</td>\n",
              "      <td>3</td>\n",
              "      <td>0</td>\n",
              "      <td>0</td>\n",
              "      <td>0</td>\n",
              "      <td>0</td>\n",
              "      <td>1</td>\n",
              "      <td>0</td>\n",
              "      <td>0</td>\n",
              "      <td>0</td>\n",
              "      <td>0</td>\n",
              "    </tr>\n",
              "    <tr>\n",
              "      <th>4</th>\n",
              "      <td>3</td>\n",
              "      <td>0</td>\n",
              "      <td>0</td>\n",
              "      <td>0</td>\n",
              "      <td>0</td>\n",
              "      <td>0</td>\n",
              "      <td>0</td>\n",
              "      <td>0</td>\n",
              "      <td>0</td>\n",
              "      <td>0</td>\n",
              "      <td>...</td>\n",
              "      <td>0</td>\n",
              "      <td>0</td>\n",
              "      <td>0</td>\n",
              "      <td>0</td>\n",
              "      <td>0</td>\n",
              "      <td>0</td>\n",
              "      <td>0</td>\n",
              "      <td>0</td>\n",
              "      <td>0</td>\n",
              "      <td>0</td>\n",
              "    </tr>\n",
              "  </tbody>\n",
              "</table>\n",
              "<p>5 rows × 785 columns</p>\n",
              "</div>\n",
              "      <button class=\"colab-df-convert\" onclick=\"convertToInteractive('df-49db19a8-17ea-4ffa-9fe3-8f5a23bc6e36')\"\n",
              "              title=\"Convert this dataframe to an interactive table.\"\n",
              "              style=\"display:none;\">\n",
              "        \n",
              "  <svg xmlns=\"http://www.w3.org/2000/svg\" height=\"24px\"viewBox=\"0 0 24 24\"\n",
              "       width=\"24px\">\n",
              "    <path d=\"M0 0h24v24H0V0z\" fill=\"none\"/>\n",
              "    <path d=\"M18.56 5.44l.94 2.06.94-2.06 2.06-.94-2.06-.94-.94-2.06-.94 2.06-2.06.94zm-11 1L8.5 8.5l.94-2.06 2.06-.94-2.06-.94L8.5 2.5l-.94 2.06-2.06.94zm10 10l.94 2.06.94-2.06 2.06-.94-2.06-.94-.94-2.06-.94 2.06-2.06.94z\"/><path d=\"M17.41 7.96l-1.37-1.37c-.4-.4-.92-.59-1.43-.59-.52 0-1.04.2-1.43.59L10.3 9.45l-7.72 7.72c-.78.78-.78 2.05 0 2.83L4 21.41c.39.39.9.59 1.41.59.51 0 1.02-.2 1.41-.59l7.78-7.78 2.81-2.81c.8-.78.8-2.07 0-2.86zM5.41 20L4 18.59l7.72-7.72 1.47 1.35L5.41 20z\"/>\n",
              "  </svg>\n",
              "      </button>\n",
              "      \n",
              "  <style>\n",
              "    .colab-df-container {\n",
              "      display:flex;\n",
              "      flex-wrap:wrap;\n",
              "      gap: 12px;\n",
              "    }\n",
              "\n",
              "    .colab-df-convert {\n",
              "      background-color: #E8F0FE;\n",
              "      border: none;\n",
              "      border-radius: 50%;\n",
              "      cursor: pointer;\n",
              "      display: none;\n",
              "      fill: #1967D2;\n",
              "      height: 32px;\n",
              "      padding: 0 0 0 0;\n",
              "      width: 32px;\n",
              "    }\n",
              "\n",
              "    .colab-df-convert:hover {\n",
              "      background-color: #E2EBFA;\n",
              "      box-shadow: 0px 1px 2px rgba(60, 64, 67, 0.3), 0px 1px 3px 1px rgba(60, 64, 67, 0.15);\n",
              "      fill: #174EA6;\n",
              "    }\n",
              "\n",
              "    [theme=dark] .colab-df-convert {\n",
              "      background-color: #3B4455;\n",
              "      fill: #D2E3FC;\n",
              "    }\n",
              "\n",
              "    [theme=dark] .colab-df-convert:hover {\n",
              "      background-color: #434B5C;\n",
              "      box-shadow: 0px 1px 3px 1px rgba(0, 0, 0, 0.15);\n",
              "      filter: drop-shadow(0px 1px 2px rgba(0, 0, 0, 0.3));\n",
              "      fill: #FFFFFF;\n",
              "    }\n",
              "  </style>\n",
              "\n",
              "      <script>\n",
              "        const buttonEl =\n",
              "          document.querySelector('#df-49db19a8-17ea-4ffa-9fe3-8f5a23bc6e36 button.colab-df-convert');\n",
              "        buttonEl.style.display =\n",
              "          google.colab.kernel.accessAllowed ? 'block' : 'none';\n",
              "\n",
              "        async function convertToInteractive(key) {\n",
              "          const element = document.querySelector('#df-49db19a8-17ea-4ffa-9fe3-8f5a23bc6e36');\n",
              "          const dataTable =\n",
              "            await google.colab.kernel.invokeFunction('convertToInteractive',\n",
              "                                                     [key], {});\n",
              "          if (!dataTable) return;\n",
              "\n",
              "          const docLinkHtml = 'Like what you see? Visit the ' +\n",
              "            '<a target=\"_blank\" href=https://colab.research.google.com/notebooks/data_table.ipynb>data table notebook</a>'\n",
              "            + ' to learn more about interactive tables.';\n",
              "          element.innerHTML = '';\n",
              "          dataTable['output_type'] = 'display_data';\n",
              "          await google.colab.output.renderOutput(dataTable, element);\n",
              "          const docLink = document.createElement('div');\n",
              "          docLink.innerHTML = docLinkHtml;\n",
              "          element.appendChild(docLink);\n",
              "        }\n",
              "      </script>\n",
              "    </div>\n",
              "  </div>\n",
              "  "
            ]
          },
          "metadata": {},
          "execution_count": 4
        }
      ],
      "source": [
        "dataTrain.head()"
      ]
    },
    {
      "cell_type": "code",
      "source": [
        "dataTest.head()"
      ],
      "metadata": {
        "colab": {
          "base_uri": "https://localhost:8080/",
          "height": 300
        },
        "id": "LH8E72m_pwwK",
        "outputId": "ab9d5e09-4174-46e9-c5b1-1aea7f18da38"
      },
      "execution_count": 5,
      "outputs": [
        {
          "output_type": "execute_result",
          "data": {
            "text/plain": [
              "   label  pixel1  pixel2  pixel3  pixel4  pixel5  pixel6  pixel7  pixel8  \\\n",
              "0      0       0       0       0       0       0       0       0       9   \n",
              "1      1       0       0       0       0       0       0       0       0   \n",
              "2      2       0       0       0       0       0       0      14      53   \n",
              "3      2       0       0       0       0       0       0       0       0   \n",
              "4      3       0       0       0       0       0       0       0       0   \n",
              "\n",
              "   pixel9  ...  pixel775  pixel776  pixel777  pixel778  pixel779  pixel780  \\\n",
              "0       8  ...       103        87        56         0         0         0   \n",
              "1       0  ...        34         0         0         0         0         0   \n",
              "2      99  ...         0         0         0         0        63        53   \n",
              "3       0  ...       137       126       140         0       133       224   \n",
              "4       0  ...         0         0         0         0         0         0   \n",
              "\n",
              "   pixel781  pixel782  pixel783  pixel784  \n",
              "0         0         0         0         0  \n",
              "1         0         0         0         0  \n",
              "2        31         0         0         0  \n",
              "3       222        56         0         0  \n",
              "4         0         0         0         0  \n",
              "\n",
              "[5 rows x 785 columns]"
            ],
            "text/html": [
              "\n",
              "  <div id=\"df-7a27f86d-915a-4d69-bc15-60d1a7c917bb\">\n",
              "    <div class=\"colab-df-container\">\n",
              "      <div>\n",
              "<style scoped>\n",
              "    .dataframe tbody tr th:only-of-type {\n",
              "        vertical-align: middle;\n",
              "    }\n",
              "\n",
              "    .dataframe tbody tr th {\n",
              "        vertical-align: top;\n",
              "    }\n",
              "\n",
              "    .dataframe thead th {\n",
              "        text-align: right;\n",
              "    }\n",
              "</style>\n",
              "<table border=\"1\" class=\"dataframe\">\n",
              "  <thead>\n",
              "    <tr style=\"text-align: right;\">\n",
              "      <th></th>\n",
              "      <th>label</th>\n",
              "      <th>pixel1</th>\n",
              "      <th>pixel2</th>\n",
              "      <th>pixel3</th>\n",
              "      <th>pixel4</th>\n",
              "      <th>pixel5</th>\n",
              "      <th>pixel6</th>\n",
              "      <th>pixel7</th>\n",
              "      <th>pixel8</th>\n",
              "      <th>pixel9</th>\n",
              "      <th>...</th>\n",
              "      <th>pixel775</th>\n",
              "      <th>pixel776</th>\n",
              "      <th>pixel777</th>\n",
              "      <th>pixel778</th>\n",
              "      <th>pixel779</th>\n",
              "      <th>pixel780</th>\n",
              "      <th>pixel781</th>\n",
              "      <th>pixel782</th>\n",
              "      <th>pixel783</th>\n",
              "      <th>pixel784</th>\n",
              "    </tr>\n",
              "  </thead>\n",
              "  <tbody>\n",
              "    <tr>\n",
              "      <th>0</th>\n",
              "      <td>0</td>\n",
              "      <td>0</td>\n",
              "      <td>0</td>\n",
              "      <td>0</td>\n",
              "      <td>0</td>\n",
              "      <td>0</td>\n",
              "      <td>0</td>\n",
              "      <td>0</td>\n",
              "      <td>9</td>\n",
              "      <td>8</td>\n",
              "      <td>...</td>\n",
              "      <td>103</td>\n",
              "      <td>87</td>\n",
              "      <td>56</td>\n",
              "      <td>0</td>\n",
              "      <td>0</td>\n",
              "      <td>0</td>\n",
              "      <td>0</td>\n",
              "      <td>0</td>\n",
              "      <td>0</td>\n",
              "      <td>0</td>\n",
              "    </tr>\n",
              "    <tr>\n",
              "      <th>1</th>\n",
              "      <td>1</td>\n",
              "      <td>0</td>\n",
              "      <td>0</td>\n",
              "      <td>0</td>\n",
              "      <td>0</td>\n",
              "      <td>0</td>\n",
              "      <td>0</td>\n",
              "      <td>0</td>\n",
              "      <td>0</td>\n",
              "      <td>0</td>\n",
              "      <td>...</td>\n",
              "      <td>34</td>\n",
              "      <td>0</td>\n",
              "      <td>0</td>\n",
              "      <td>0</td>\n",
              "      <td>0</td>\n",
              "      <td>0</td>\n",
              "      <td>0</td>\n",
              "      <td>0</td>\n",
              "      <td>0</td>\n",
              "      <td>0</td>\n",
              "    </tr>\n",
              "    <tr>\n",
              "      <th>2</th>\n",
              "      <td>2</td>\n",
              "      <td>0</td>\n",
              "      <td>0</td>\n",
              "      <td>0</td>\n",
              "      <td>0</td>\n",
              "      <td>0</td>\n",
              "      <td>0</td>\n",
              "      <td>14</td>\n",
              "      <td>53</td>\n",
              "      <td>99</td>\n",
              "      <td>...</td>\n",
              "      <td>0</td>\n",
              "      <td>0</td>\n",
              "      <td>0</td>\n",
              "      <td>0</td>\n",
              "      <td>63</td>\n",
              "      <td>53</td>\n",
              "      <td>31</td>\n",
              "      <td>0</td>\n",
              "      <td>0</td>\n",
              "      <td>0</td>\n",
              "    </tr>\n",
              "    <tr>\n",
              "      <th>3</th>\n",
              "      <td>2</td>\n",
              "      <td>0</td>\n",
              "      <td>0</td>\n",
              "      <td>0</td>\n",
              "      <td>0</td>\n",
              "      <td>0</td>\n",
              "      <td>0</td>\n",
              "      <td>0</td>\n",
              "      <td>0</td>\n",
              "      <td>0</td>\n",
              "      <td>...</td>\n",
              "      <td>137</td>\n",
              "      <td>126</td>\n",
              "      <td>140</td>\n",
              "      <td>0</td>\n",
              "      <td>133</td>\n",
              "      <td>224</td>\n",
              "      <td>222</td>\n",
              "      <td>56</td>\n",
              "      <td>0</td>\n",
              "      <td>0</td>\n",
              "    </tr>\n",
              "    <tr>\n",
              "      <th>4</th>\n",
              "      <td>3</td>\n",
              "      <td>0</td>\n",
              "      <td>0</td>\n",
              "      <td>0</td>\n",
              "      <td>0</td>\n",
              "      <td>0</td>\n",
              "      <td>0</td>\n",
              "      <td>0</td>\n",
              "      <td>0</td>\n",
              "      <td>0</td>\n",
              "      <td>...</td>\n",
              "      <td>0</td>\n",
              "      <td>0</td>\n",
              "      <td>0</td>\n",
              "      <td>0</td>\n",
              "      <td>0</td>\n",
              "      <td>0</td>\n",
              "      <td>0</td>\n",
              "      <td>0</td>\n",
              "      <td>0</td>\n",
              "      <td>0</td>\n",
              "    </tr>\n",
              "  </tbody>\n",
              "</table>\n",
              "<p>5 rows × 785 columns</p>\n",
              "</div>\n",
              "      <button class=\"colab-df-convert\" onclick=\"convertToInteractive('df-7a27f86d-915a-4d69-bc15-60d1a7c917bb')\"\n",
              "              title=\"Convert this dataframe to an interactive table.\"\n",
              "              style=\"display:none;\">\n",
              "        \n",
              "  <svg xmlns=\"http://www.w3.org/2000/svg\" height=\"24px\"viewBox=\"0 0 24 24\"\n",
              "       width=\"24px\">\n",
              "    <path d=\"M0 0h24v24H0V0z\" fill=\"none\"/>\n",
              "    <path d=\"M18.56 5.44l.94 2.06.94-2.06 2.06-.94-2.06-.94-.94-2.06-.94 2.06-2.06.94zm-11 1L8.5 8.5l.94-2.06 2.06-.94-2.06-.94L8.5 2.5l-.94 2.06-2.06.94zm10 10l.94 2.06.94-2.06 2.06-.94-2.06-.94-.94-2.06-.94 2.06-2.06.94z\"/><path d=\"M17.41 7.96l-1.37-1.37c-.4-.4-.92-.59-1.43-.59-.52 0-1.04.2-1.43.59L10.3 9.45l-7.72 7.72c-.78.78-.78 2.05 0 2.83L4 21.41c.39.39.9.59 1.41.59.51 0 1.02-.2 1.41-.59l7.78-7.78 2.81-2.81c.8-.78.8-2.07 0-2.86zM5.41 20L4 18.59l7.72-7.72 1.47 1.35L5.41 20z\"/>\n",
              "  </svg>\n",
              "      </button>\n",
              "      \n",
              "  <style>\n",
              "    .colab-df-container {\n",
              "      display:flex;\n",
              "      flex-wrap:wrap;\n",
              "      gap: 12px;\n",
              "    }\n",
              "\n",
              "    .colab-df-convert {\n",
              "      background-color: #E8F0FE;\n",
              "      border: none;\n",
              "      border-radius: 50%;\n",
              "      cursor: pointer;\n",
              "      display: none;\n",
              "      fill: #1967D2;\n",
              "      height: 32px;\n",
              "      padding: 0 0 0 0;\n",
              "      width: 32px;\n",
              "    }\n",
              "\n",
              "    .colab-df-convert:hover {\n",
              "      background-color: #E2EBFA;\n",
              "      box-shadow: 0px 1px 2px rgba(60, 64, 67, 0.3), 0px 1px 3px 1px rgba(60, 64, 67, 0.15);\n",
              "      fill: #174EA6;\n",
              "    }\n",
              "\n",
              "    [theme=dark] .colab-df-convert {\n",
              "      background-color: #3B4455;\n",
              "      fill: #D2E3FC;\n",
              "    }\n",
              "\n",
              "    [theme=dark] .colab-df-convert:hover {\n",
              "      background-color: #434B5C;\n",
              "      box-shadow: 0px 1px 3px 1px rgba(0, 0, 0, 0.15);\n",
              "      filter: drop-shadow(0px 1px 2px rgba(0, 0, 0, 0.3));\n",
              "      fill: #FFFFFF;\n",
              "    }\n",
              "  </style>\n",
              "\n",
              "      <script>\n",
              "        const buttonEl =\n",
              "          document.querySelector('#df-7a27f86d-915a-4d69-bc15-60d1a7c917bb button.colab-df-convert');\n",
              "        buttonEl.style.display =\n",
              "          google.colab.kernel.accessAllowed ? 'block' : 'none';\n",
              "\n",
              "        async function convertToInteractive(key) {\n",
              "          const element = document.querySelector('#df-7a27f86d-915a-4d69-bc15-60d1a7c917bb');\n",
              "          const dataTable =\n",
              "            await google.colab.kernel.invokeFunction('convertToInteractive',\n",
              "                                                     [key], {});\n",
              "          if (!dataTable) return;\n",
              "\n",
              "          const docLinkHtml = 'Like what you see? Visit the ' +\n",
              "            '<a target=\"_blank\" href=https://colab.research.google.com/notebooks/data_table.ipynb>data table notebook</a>'\n",
              "            + ' to learn more about interactive tables.';\n",
              "          element.innerHTML = '';\n",
              "          dataTable['output_type'] = 'display_data';\n",
              "          await google.colab.output.renderOutput(dataTable, element);\n",
              "          const docLink = document.createElement('div');\n",
              "          docLink.innerHTML = docLinkHtml;\n",
              "          element.appendChild(docLink);\n",
              "        }\n",
              "      </script>\n",
              "    </div>\n",
              "  </div>\n",
              "  "
            ]
          },
          "metadata": {},
          "execution_count": 5
        }
      ]
    },
    {
      "cell_type": "code",
      "execution_count": 6,
      "metadata": {
        "id": "UrajfEViKHei"
      },
      "outputs": [],
      "source": [
        "import matplotlib.pyplot as plt\n",
        "%matplotlib inline"
      ]
    },
    {
      "cell_type": "code",
      "execution_count": 7,
      "metadata": {
        "id": "wj8a_sBEKHej",
        "outputId": "2a755dac-4c4b-4176-d5bb-ff7b0c019d9c",
        "colab": {
          "base_uri": "https://localhost:8080/",
          "height": 430
        }
      },
      "outputs": [
        {
          "output_type": "display_data",
          "data": {
            "text/plain": [
              "<Figure size 640x480 with 1 Axes>"
            ],
            "image/png": "[encoded data removed]"
          },
          "metadata": {}
        }
      ],
      "source": [
        "#Imprimindo um objeto do dataset\n",
        "plt.imshow(dataTrain.values[0][1:].reshape(28,28), cmap='gray', interpolation='none')\n",
        "plt.show()\n",
        "#dataTrain.columns"
      ]
    },
    {
      "cell_type": "code",
      "source": [
        "#dataTest.columns"
      ],
      "metadata": {
        "colab": {
          "base_uri": "https://localhost:8080/"
        },
        "id": "rW8A0On7pXna",
        "outputId": "d0cdee9a-f0d9-4f28-8099-db8cebb36c1e"
      },
      "execution_count": null,
      "outputs": [
        {
          "output_type": "execute_result",
          "data": {
            "text/plain": [
              "Index(['label', 'pixel1', 'pixel2', 'pixel3', 'pixel4', 'pixel5', 'pixel6',\n",
              "       'pixel7', 'pixel8', 'pixel9',\n",
              "       ...\n",
              "       'pixel775', 'pixel776', 'pixel777', 'pixel778', 'pixel779', 'pixel780',\n",
              "       'pixel781', 'pixel782', 'pixel783', 'pixel784'],\n",
              "      dtype='object', length=785)"
            ]
          },
          "metadata": {},
          "execution_count": 43
        }
      ]
    },
    {
      "cell_type": "code",
      "source": [
        "targetTrain = dataTrain[\"label\"].values.reshape(dataTrain.shape[0], 1)\n",
        "dataTrain.drop(\"label\", axis=1, inplace=True)\n",
        "trainTrain = dataTrain.values\n",
        "print(trainTrain.shape)"
      ],
      "metadata": {
        "colab": {
          "base_uri": "https://localhost:8080/"
        },
        "id": "9OVFXtfIr4bT",
        "outputId": "630d5119-5ec1-4dae-eb1e-14035dd324b3"
      },
      "execution_count": 8,
      "outputs": [
        {
          "output_type": "stream",
          "name": "stdout",
          "text": [
            "(60000, 784)\n"
          ]
        }
      ]
    },
    {
      "cell_type": "code",
      "source": [
        "trainTrain = trainTrain.astype(\"float32\") / 255"
      ],
      "metadata": {
        "id": "QWzNdq-CtBDh"
      },
      "execution_count": 9,
      "outputs": []
    },
    {
      "cell_type": "code",
      "source": [
        "enc = OneHotEncoder()\n",
        "enc.fit(targetTrain)\n",
        "target1 = enc.transform(targetTrain).toarray()\n",
        "print(target1[:5])"
      ],
      "metadata": {
        "colab": {
          "base_uri": "https://localhost:8080/"
        },
        "id": "MYVsOQbqtHV4",
        "outputId": "f29ce94c-c5fa-44a1-dd93-27ad09cdc50e"
      },
      "execution_count": 10,
      "outputs": [
        {
          "output_type": "stream",
          "name": "stdout",
          "text": [
            "[[0. 0. 1. 0. 0. 0. 0. 0. 0. 0.]\n",
            " [0. 0. 0. 0. 0. 0. 0. 0. 0. 1.]\n",
            " [0. 0. 0. 0. 0. 0. 1. 0. 0. 0.]\n",
            " [1. 0. 0. 0. 0. 0. 0. 0. 0. 0.]\n",
            " [0. 0. 0. 1. 0. 0. 0. 0. 0. 0.]]\n"
          ]
        }
      ]
    },
    {
      "cell_type": "code",
      "source": [
        "train_x, val_x, train_y, val_y = train_test_split(trainTrain, target1, test_size=0.2, random_state=25)"
      ],
      "metadata": {
        "id": "NqIVyBHPtpOn"
      },
      "execution_count": 11,
      "outputs": []
    },
    {
      "cell_type": "markdown",
      "metadata": {
        "id": "ChhIUoIHKHek"
      },
      "source": [
        "### A atividade consiste em utilizar o KNN para classificar as imagens do fmnist"
      ]
    },
    {
      "cell_type": "code",
      "source": [
        "kVals = range(1, 31, 1)\n",
        "accuracies = []"
      ],
      "metadata": {
        "id": "K4agObnuojN9"
      },
      "execution_count": 12,
      "outputs": []
    },
    {
      "cell_type": "code",
      "source": [
        "for k in kVals:\n",
        "        # train the k-Nearest Neighbor classifier with the current value of `k`\n",
        "        model = KNeighborsClassifier(n_neighbors=k, metric='euclidean')\n",
        "        model.fit(train_x, train_y)\n",
        "        # evaluate the model and update the accuracies list\n",
        "        score = model.score(val_x, val_y)\n",
        "        print(\"k=%d, accuracy=%.2f%%\" % (k, score * 100))\n",
        "        accuracies.append(score)"
      ],
      "metadata": {
        "id": "7JEWXbgoox4j",
        "colab": {
          "base_uri": "https://localhost:8080/"
        },
        "outputId": "5400084b-51bb-403f-deb5-7671ed1c9822"
      },
      "execution_count": null,
      "outputs": [
        {
          "output_type": "stream",
          "name": "stdout",
          "text": [
            "k=1, accuracy=84.92%\n",
            "k=2, accuracy=76.72%\n",
            "k=3, accuracy=84.51%\n",
            "k=4, accuracy=79.78%\n",
            "k=5, accuracy=83.79%\n",
            "k=6, accuracy=80.52%\n",
            "k=7, accuracy=83.60%\n",
            "k=8, accuracy=81.03%\n",
            "k=9, accuracy=83.18%\n",
            "k=10, accuracy=81.06%\n",
            "k=11, accuracy=82.97%\n",
            "k=12, accuracy=80.92%\n",
            "k=13, accuracy=82.53%\n",
            "k=14, accuracy=80.73%\n",
            "k=15, accuracy=82.06%\n",
            "k=16, accuracy=80.62%\n",
            "k=17, accuracy=81.74%\n",
            "k=18, accuracy=80.60%\n",
            "k=19, accuracy=81.61%\n",
            "k=20, accuracy=80.42%\n",
            "k=21, accuracy=81.48%\n",
            "k=22, accuracy=80.33%\n",
            "k=23, accuracy=81.29%\n",
            "k=24, accuracy=80.34%\n",
            "k=25, accuracy=81.08%\n",
            "k=26, accuracy=80.13%\n",
            "k=27, accuracy=80.88%\n",
            "k=28, accuracy=80.06%\n",
            "k=29, accuracy=80.73%\n",
            "k=30, accuracy=79.96%\n"
          ]
        }
      ]
    },
    {
      "cell_type": "code",
      "source": [
        "plt.plot(kVals, accuracies)"
      ],
      "metadata": {
        "colab": {
          "base_uri": "https://localhost:8080/",
          "height": 447
        },
        "id": "MLVNanwd85Er",
        "outputId": "99f5fec4-f2f5-4e79-cd5d-14cbb6247e54"
      },
      "execution_count": null,
      "outputs": [
        {
          "output_type": "execute_result",
          "data": {
            "text/plain": [
              "[<matplotlib.lines.Line2D at 0x7efda8e07100>]"
            ]
          },
          "metadata": {},
          "execution_count": 52
        },
        {
          "output_type": "display_data",
          "data": {
            "text/plain": [
              "<Figure size 640x480 with 1 Axes>"
            ],
            "image/png": "[encoded data removed]"
          },
          "metadata": {}
        }
      ]
    },
    {
      "cell_type": "code",
      "source": [
        "model.predict(val_x[0:1,:])"
      ],
      "metadata": {
        "colab": {
          "base_uri": "https://localhost:8080/"
        },
        "id": "IT3FjREd9FYo",
        "outputId": "fc507c56-853a-4145-d546-bee2b06208c4"
      },
      "execution_count": null,
      "outputs": [
        {
          "output_type": "execute_result",
          "data": {
            "text/plain": [
              "array([[0., 0., 1., 0., 0., 0., 0., 0., 0., 0.]])"
            ]
          },
          "metadata": {},
          "execution_count": 58
        }
      ]
    },
    {
      "cell_type": "code",
      "source": [
        "val_x[0:1,:]"
      ],
      "metadata": {
        "colab": {
          "base_uri": "https://localhost:8080/"
        },
        "id": "69_G2Tav9VfW",
        "outputId": "f479453a-0db8-47b1-83fa-5214027e2af3"
      },
      "execution_count": null,
      "outputs": [
        {
          "output_type": "execute_result",
          "data": {
            "text/plain": [
              "array([[0.0000000e+00, 0.0000000e+00, 0.0000000e+00, 0.0000000e+00,\n",
              "        0.0000000e+00, 3.0757405e-05, 0.0000000e+00, 0.0000000e+00,\n",
              "        0.0000000e+00, 2.7681663e-04, 1.7224145e-03, 2.1683970e-03,\n",
              "        1.3225683e-03, 7.6893502e-04, 8.4582856e-04, 1.7685506e-03,\n",
              "        2.1222609e-03, 9.6885813e-04, 0.0000000e+00, 0.0000000e+00,\n",
              "        0.0000000e+00, 0.0000000e+00, 0.0000000e+00, 0.0000000e+00,\n",
              "        0.0000000e+00, 0.0000000e+00, 0.0000000e+00, 0.0000000e+00,\n",
              "        0.0000000e+00, 0.0000000e+00, 0.0000000e+00, 0.0000000e+00,\n",
              "        3.0757405e-05, 0.0000000e+00, 0.0000000e+00, 1.5071126e-03,\n",
              "        3.3217994e-03, 3.5063438e-03, 3.6447521e-03, 3.8292964e-03,\n",
              "        3.9215689e-03, 3.9215689e-03, 3.7985391e-03, 3.9215689e-03,\n",
              "        3.8446751e-03, 3.6139947e-03, 3.3064208e-03, 2.8450596e-03,\n",
              "        5.5363326e-04, 0.0000000e+00, 0.0000000e+00, 0.0000000e+00,\n",
              "        0.0000000e+00, 0.0000000e+00, 0.0000000e+00, 0.0000000e+00,\n",
              "        0.0000000e+00, 0.0000000e+00, 0.0000000e+00, 0.0000000e+00,\n",
              "        0.0000000e+00, 0.0000000e+00, 2.4298348e-03, 3.7985391e-03,\n",
              "        3.5524799e-03, 3.4140716e-03, 3.3525568e-03, 3.3679355e-03,\n",
              "        3.5678586e-03, 3.7062669e-03, 3.7216456e-03, 3.5832373e-03,\n",
              "        3.3371781e-03, 3.3525568e-03, 3.4602077e-03, 3.6447521e-03,\n",
              "        3.6601308e-03, 1.1995387e-03, 0.0000000e+00, 0.0000000e+00,\n",
              "        0.0000000e+00, 0.0000000e+00, 0.0000000e+00, 0.0000000e+00,\n",
              "        0.0000000e+00, 0.0000000e+00, 0.0000000e+00, 0.0000000e+00,\n",
              "        0.0000000e+00, 1.2302961e-03, 3.7831604e-03, 3.3064208e-03,\n",
              "        3.3986929e-03, 3.3986929e-03, 3.5678586e-03, 3.6293734e-03,\n",
              "        3.3525568e-03, 3.3064208e-03, 3.3217994e-03, 3.3371781e-03,\n",
              "        3.5986160e-03, 3.5986160e-03, 3.3986929e-03, 3.3371781e-03,\n",
              "        3.5063438e-03, 3.3217994e-03, 0.0000000e+00, 0.0000000e+00,\n",
              "        0.0000000e+00, 0.0000000e+00, 0.0000000e+00, 0.0000000e+00,\n",
              "        0.0000000e+00, 0.0000000e+00, 0.0000000e+00, 0.0000000e+00,\n",
              "        0.0000000e+00, 2.4452135e-03, 3.6601308e-03, 3.3679355e-03,\n",
              "        3.4140716e-03, 3.6139947e-03, 2.7681661e-03, 2.5990005e-03,\n",
              "        3.5524799e-03, 3.4140716e-03, 3.3525568e-03, 3.5371012e-03,\n",
              "        2.4913496e-03, 2.8143022e-03, 3.6139947e-03, 3.3833142e-03,\n",
              "        3.3525568e-03, 3.6601308e-03, 8.9196465e-04, 0.0000000e+00,\n",
              "        0.0000000e+00, 0.0000000e+00, 0.0000000e+00, 0.0000000e+00,\n",
              "        0.0000000e+00, 0.0000000e+00, 0.0000000e+00, 0.0000000e+00,\n",
              "        0.0000000e+00, 2.9680892e-03, 3.6139947e-03, 3.4294503e-03,\n",
              "        3.3679355e-03, 3.7370243e-03, 2.3990774e-03, 2.0146100e-03,\n",
              "        2.9680892e-03, 2.9527105e-03, 3.2141483e-03, 3.3679355e-03,\n",
              "        1.1226452e-03, 3.1218762e-03, 3.5832373e-03, 3.3833142e-03,\n",
              "        3.3525568e-03, 3.7062669e-03, 1.7224145e-03, 0.0000000e+00,\n",
              "        0.0000000e+00, 0.0000000e+00, 0.0000000e+00, 0.0000000e+00,\n",
              "        0.0000000e+00, 0.0000000e+00, 0.0000000e+00, 0.0000000e+00,\n",
              "        0.0000000e+00, 3.4602077e-03, 3.5678586e-03, 3.4602077e-03,\n",
              "        3.3986929e-03, 3.4140716e-03, 3.5986160e-03, 3.5678586e-03,\n",
              "        2.4144561e-03, 3.7216456e-03, 1.8146867e-03, 2.8450596e-03,\n",
              "        2.9527105e-03, 3.4602077e-03, 3.4294503e-03, 3.4140716e-03,\n",
              "        3.3679355e-03, 3.7062669e-03, 2.6758939e-03, 0.0000000e+00,\n",
              "        0.0000000e+00, 0.0000000e+00, 0.0000000e+00, 0.0000000e+00,\n",
              "        0.0000000e+00, 0.0000000e+00, 0.0000000e+00, 0.0000000e+00,\n",
              "        0.0000000e+00, 3.7677817e-03, 3.5524799e-03, 3.4755864e-03,\n",
              "        3.4448290e-03, 3.3525568e-03, 3.4140716e-03, 3.1833909e-03,\n",
              "        2.9680892e-03, 2.7835448e-03, 2.0299887e-03, 3.4755864e-03,\n",
              "        3.1372549e-03, 3.2449057e-03, 3.4140716e-03, 3.3986929e-03,\n",
              "        3.4294503e-03, 3.6601308e-03, 3.1372549e-03, 0.0000000e+00,\n",
              "        0.0000000e+00, 0.0000000e+00, 0.0000000e+00, 0.0000000e+00,\n",
              "        0.0000000e+00, 0.0000000e+00, 0.0000000e+00, 0.0000000e+00,\n",
              "        0.0000000e+00, 3.9061899e-03, 3.5524799e-03, 3.5371012e-03,\n",
              "        3.5371012e-03, 3.3833142e-03, 3.5524799e-03, 3.1526336e-03,\n",
              "        3.5371011e-04, 2.8296809e-03, 2.3068051e-04, 2.9373318e-03,\n",
              "        3.4294503e-03, 3.0757401e-03, 3.5063438e-03, 3.3833142e-03,\n",
              "        3.4755864e-03, 3.5986160e-03, 3.6601308e-03, 0.0000000e+00,\n",
              "        0.0000000e+00, 0.0000000e+00, 0.0000000e+00, 0.0000000e+00,\n",
              "        0.0000000e+00, 0.0000000e+00, 0.0000000e+00, 0.0000000e+00,\n",
              "        1.5378702e-05, 3.9215689e-03, 3.5524799e-03, 3.5678586e-03,\n",
              "        3.5986160e-03, 3.5217225e-03, 3.5524799e-03, 1.9838526e-03,\n",
              "        0.0000000e+00, 9.2272203e-05, 4.9211847e-04, 1.9069589e-03,\n",
              "        3.3525568e-03, 2.0146100e-03, 3.6447521e-03, 3.4602077e-03,\n",
              "        3.5217225e-03, 3.5371012e-03, 3.3525568e-03, 0.0000000e+00,\n",
              "        0.0000000e+00, 0.0000000e+00, 0.0000000e+00, 0.0000000e+00,\n",
              "        0.0000000e+00, 0.0000000e+00, 0.0000000e+00, 0.0000000e+00,\n",
              "        4.7673972e-04, 3.9215689e-03, 3.5524799e-03, 3.6139947e-03,\n",
              "        3.6447521e-03, 3.6139947e-03, 3.3986929e-03, 1.6608997e-03,\n",
              "        1.0457517e-03, 0.0000000e+00, 2.1530183e-03, 3.9061899e-03,\n",
              "        3.1987696e-03, 2.7066513e-03, 3.2602844e-03, 3.5371012e-03,\n",
              "        3.5063438e-03, 3.5371012e-03, 3.5371012e-03, 0.0000000e+00,\n",
              "        0.0000000e+00, 0.0000000e+00, 0.0000000e+00, 0.0000000e+00,\n",
              "        0.0000000e+00, 0.0000000e+00, 0.0000000e+00, 0.0000000e+00,\n",
              "        1.0765091e-03, 3.9215689e-03, 3.6139947e-03, 3.6755095e-03,\n",
              "        3.5832373e-03, 3.8908112e-03, 2.0146100e-03, 1.7993080e-03,\n",
              "        1.6916571e-03, 0.0000000e+00, 1.5378700e-03, 3.4294503e-03,\n",
              "        3.3064208e-03, 3.5832373e-03, 3.4448290e-03, 3.5371012e-03,\n",
              "        3.5986160e-03, 3.5217225e-03, 3.6139947e-03, 4.4598232e-04,\n",
              "        0.0000000e+00, 0.0000000e+00, 0.0000000e+00, 0.0000000e+00,\n",
              "        0.0000000e+00, 0.0000000e+00, 0.0000000e+00, 0.0000000e+00,\n",
              "        1.4917339e-03, 3.9061899e-03, 3.7216456e-03, 3.6908882e-03,\n",
              "        3.5986160e-03, 3.9061899e-03, 1.5071126e-03, 1.5224913e-03,\n",
              "        2.6143793e-04, 2.0915035e-03, 3.8908112e-03, 3.2602844e-03,\n",
              "        3.2141483e-03, 3.3833142e-03, 3.4448290e-03, 3.6139947e-03,\n",
              "        3.6601308e-03, 3.5217225e-03, 3.9215689e-03, 1.0611304e-03,\n",
              "        0.0000000e+00, 0.0000000e+00, 0.0000000e+00, 0.0000000e+00,\n",
              "        0.0000000e+00, 0.0000000e+00, 0.0000000e+00, 0.0000000e+00,\n",
              "        1.7839293e-03, 3.9061899e-03, 3.7524030e-03, 3.7677817e-03,\n",
              "        3.4909651e-03, 3.6908882e-03, 2.6297579e-03, 1.8915802e-03,\n",
              "        2.9527105e-03, 3.7370243e-03, 3.0603614e-03, 3.1680122e-03,\n",
              "        3.2910421e-03, 3.3833142e-03, 3.4602077e-03, 3.4294503e-03,\n",
              "        3.7216456e-03, 3.5063438e-03, 3.9215689e-03, 1.3687044e-03,\n",
              "        0.0000000e+00, 0.0000000e+00, 0.0000000e+00, 0.0000000e+00,\n",
              "        0.0000000e+00, 0.0000000e+00, 0.0000000e+00, 0.0000000e+00,\n",
              "        2.2145330e-03, 3.8446751e-03, 3.7677817e-03, 3.7677817e-03,\n",
              "        3.4140716e-03, 3.3371781e-03, 3.7370243e-03, 3.8908112e-03,\n",
              "        3.5832373e-03, 3.1680122e-03, 3.3064208e-03, 3.3371781e-03,\n",
              "        3.3525568e-03, 3.3217994e-03, 3.4755864e-03, 3.3679355e-03,\n",
              "        3.7062669e-03, 3.5217225e-03, 3.9215689e-03, 1.6455210e-03,\n",
              "        0.0000000e+00, 0.0000000e+00, 0.0000000e+00, 0.0000000e+00,\n",
              "        0.0000000e+00, 0.0000000e+00, 0.0000000e+00, 0.0000000e+00,\n",
              "        2.4759709e-03, 3.7216456e-03, 3.7831604e-03, 3.6601308e-03,\n",
              "        3.3371781e-03, 3.3986929e-03, 3.3833142e-03, 3.2756634e-03,\n",
              "        3.2910421e-03, 3.3679355e-03, 3.3371781e-03, 3.3371781e-03,\n",
              "        3.3371781e-03, 3.3064208e-03, 3.4448290e-03, 3.3986929e-03,\n",
              "        3.5986160e-03, 3.5524799e-03, 3.9215689e-03, 1.9838526e-03,\n",
              "        0.0000000e+00, 0.0000000e+00, 0.0000000e+00, 0.0000000e+00,\n",
              "        0.0000000e+00, 0.0000000e+00, 0.0000000e+00, 0.0000000e+00,\n",
              "        2.5528644e-03, 3.6293734e-03, 3.8754325e-03, 3.6293734e-03,\n",
              "        3.3371781e-03, 3.4602077e-03, 3.4140716e-03, 3.3525568e-03,\n",
              "        3.3217994e-03, 3.3217994e-03, 3.3064208e-03, 3.3217994e-03,\n",
              "        3.3679355e-03, 3.3064208e-03, 3.3986929e-03, 3.4909651e-03,\n",
              "        3.4755864e-03, 3.5832373e-03, 3.9061899e-03, 2.1376396e-03,\n",
              "        0.0000000e+00, 0.0000000e+00, 0.0000000e+00, 0.0000000e+00,\n",
              "        0.0000000e+00, 0.0000000e+00, 0.0000000e+00, 0.0000000e+00,\n",
              "        2.7374087e-03, 3.5832373e-03, 3.8908112e-03, 3.6139947e-03,\n",
              "        3.3371781e-03, 3.4602077e-03, 3.3986929e-03, 3.3679355e-03,\n",
              "        3.3217994e-03, 3.3217994e-03, 3.3371781e-03, 3.3217994e-03,\n",
              "        3.3833142e-03, 3.2910421e-03, 3.2910421e-03, 3.5678586e-03,\n",
              "        3.3986929e-03, 3.5678586e-03, 3.9061899e-03, 2.2452904e-03,\n",
              "        0.0000000e+00, 0.0000000e+00, 0.0000000e+00, 0.0000000e+00,\n",
              "        0.0000000e+00, 0.0000000e+00, 0.0000000e+00, 0.0000000e+00,\n",
              "        2.8758170e-03, 3.5371012e-03, 3.9061899e-03, 3.5986160e-03,\n",
              "        3.3371781e-03, 3.4602077e-03, 3.3833142e-03, 3.3679355e-03,\n",
              "        3.3217994e-03, 3.3525568e-03, 3.3217994e-03, 3.3525568e-03,\n",
              "        3.3833142e-03, 3.3064208e-03, 3.2449057e-03, 3.4755864e-03,\n",
              "        3.4448290e-03, 3.4755864e-03, 3.9061899e-03, 2.4144561e-03,\n",
              "        0.0000000e+00, 0.0000000e+00, 0.0000000e+00, 0.0000000e+00,\n",
              "        0.0000000e+00, 0.0000000e+00, 0.0000000e+00, 0.0000000e+00,\n",
              "        2.9373318e-03, 3.5217225e-03, 3.9061899e-03, 3.5832373e-03,\n",
              "        3.4140716e-03, 3.4448290e-03, 3.3679355e-03, 3.3525568e-03,\n",
              "        3.3525568e-03, 3.3679355e-03, 3.3064208e-03, 3.3525568e-03,\n",
              "        3.3525568e-03, 3.3525568e-03, 3.3217994e-03, 3.3525568e-03,\n",
              "        3.4602077e-03, 3.5678586e-03, 3.8754325e-03, 2.5067283e-03,\n",
              "        0.0000000e+00, 0.0000000e+00, 0.0000000e+00, 0.0000000e+00,\n",
              "        0.0000000e+00, 0.0000000e+00, 0.0000000e+00, 0.0000000e+00,\n",
              "        2.8758170e-03, 3.5217225e-03, 3.9061899e-03, 3.5832373e-03,\n",
              "        3.3371781e-03, 3.4448290e-03, 3.3679355e-03, 3.3525568e-03,\n",
              "        3.3371781e-03, 3.3525568e-03, 3.3064208e-03, 3.3525568e-03,\n",
              "        3.3525568e-03, 3.3371781e-03, 3.3217994e-03, 3.3217994e-03,\n",
              "        3.3371781e-03, 3.6139947e-03, 3.8139177e-03, 2.5682431e-03,\n",
              "        0.0000000e+00, 0.0000000e+00, 0.0000000e+00, 0.0000000e+00,\n",
              "        0.0000000e+00, 0.0000000e+00, 0.0000000e+00, 0.0000000e+00,\n",
              "        2.8450596e-03, 3.5678586e-03, 3.9061899e-03, 3.4602077e-03,\n",
              "        3.4140716e-03, 3.3833142e-03, 3.3833142e-03, 3.4294503e-03,\n",
              "        3.3986929e-03, 3.3371781e-03, 3.3064208e-03, 3.3525568e-03,\n",
              "        3.3679355e-03, 3.3679355e-03, 3.3525568e-03, 3.3217994e-03,\n",
              "        3.3064208e-03, 3.7062669e-03, 3.7677817e-03, 2.6143792e-03,\n",
              "        0.0000000e+00, 0.0000000e+00, 0.0000000e+00, 0.0000000e+00,\n",
              "        0.0000000e+00, 0.0000000e+00, 0.0000000e+00, 0.0000000e+00,\n",
              "        2.7374087e-03, 3.7370243e-03, 3.5371012e-03, 2.4605922e-03,\n",
              "        3.5063438e-03, 3.4294503e-03, 3.4602077e-03, 3.4448290e-03,\n",
              "        3.4140716e-03, 3.3833142e-03, 3.3679355e-03, 3.3986929e-03,\n",
              "        3.3833142e-03, 3.3525568e-03, 3.3679355e-03, 3.3679355e-03,\n",
              "        3.2602844e-03, 3.6601308e-03, 3.7062669e-03, 2.7066513e-03,\n",
              "        0.0000000e+00, 0.0000000e+00, 0.0000000e+00, 0.0000000e+00,\n",
              "        0.0000000e+00, 0.0000000e+00, 0.0000000e+00, 0.0000000e+00,\n",
              "        2.7066513e-03, 3.5678586e-03, 3.3525568e-03, 2.2914265e-03,\n",
              "        3.9215689e-03, 3.5832373e-03, 3.5678586e-03, 3.5371012e-03,\n",
              "        3.4909651e-03, 3.4448290e-03, 3.4755864e-03, 3.5217225e-03,\n",
              "        3.5678586e-03, 3.5986160e-03, 3.5524799e-03, 3.9215689e-03,\n",
              "        2.9988466e-03, 3.5371012e-03, 3.5678586e-03, 2.7220300e-03,\n",
              "        0.0000000e+00, 0.0000000e+00, 0.0000000e+00, 0.0000000e+00,\n",
              "        0.0000000e+00, 0.0000000e+00, 0.0000000e+00, 0.0000000e+00,\n",
              "        2.7374087e-03, 3.4909651e-03, 3.5986160e-03, 7.0742023e-04,\n",
              "        6.1514805e-04, 7.5355632e-04, 4.1522493e-04, 3.3833142e-04,\n",
              "        2.7681663e-04, 2.6143793e-04, 3.6908881e-04, 4.7673972e-04,\n",
              "        6.6128414e-04, 8.9196465e-04, 8.9196465e-04, 6.3052675e-04,\n",
              "        1.0149943e-03, 3.6908882e-03, 3.4909651e-03, 2.7066513e-03,\n",
              "        0.0000000e+00, 0.0000000e+00, 0.0000000e+00, 0.0000000e+00,\n",
              "        0.0000000e+00, 0.0000000e+00, 0.0000000e+00, 0.0000000e+00,\n",
              "        2.9834679e-03, 3.4448290e-03, 3.5986160e-03, 0.0000000e+00,\n",
              "        0.0000000e+00, 0.0000000e+00, 0.0000000e+00, 0.0000000e+00,\n",
              "        0.0000000e+00, 0.0000000e+00, 0.0000000e+00, 0.0000000e+00,\n",
              "        0.0000000e+00, 0.0000000e+00, 0.0000000e+00, 0.0000000e+00,\n",
              "        1.5378702e-05, 3.6139947e-03, 3.4602077e-03, 2.9065744e-03,\n",
              "        0.0000000e+00, 0.0000000e+00, 0.0000000e+00, 0.0000000e+00,\n",
              "        0.0000000e+00, 0.0000000e+00, 0.0000000e+00, 0.0000000e+00,\n",
              "        3.0757401e-03, 3.5678586e-03, 3.5524799e-03, 1.2302962e-04,\n",
              "        0.0000000e+00, 9.2272203e-05, 7.6893506e-05, 7.6893506e-05,\n",
              "        6.1514809e-05, 6.1514809e-05, 7.6893506e-05, 9.2272203e-05,\n",
              "        9.2272203e-05, 1.0765091e-04, 9.2272203e-05, 0.0000000e+00,\n",
              "        2.1530181e-04, 3.5678586e-03, 3.5063438e-03, 2.9065744e-03,\n",
              "        0.0000000e+00, 0.0000000e+00, 0.0000000e+00, 0.0000000e+00,\n",
              "        0.0000000e+00, 0.0000000e+00, 0.0000000e+00, 0.0000000e+00,\n",
              "        2.8758170e-03, 3.5832373e-03, 3.3371781e-03, 0.0000000e+00,\n",
              "        0.0000000e+00, 3.0757405e-05, 0.0000000e+00, 0.0000000e+00,\n",
              "        0.0000000e+00, 0.0000000e+00, 0.0000000e+00, 0.0000000e+00,\n",
              "        0.0000000e+00, 0.0000000e+00, 4.6136101e-05, 0.0000000e+00,\n",
              "        7.6893506e-05, 3.4294503e-03, 3.5371012e-03, 2.7681661e-03,\n",
              "        0.0000000e+00, 0.0000000e+00, 0.0000000e+00, 0.0000000e+00]],\n",
              "      dtype=float32)"
            ]
          },
          "metadata": {},
          "execution_count": 59
        }
      ]
    },
    {
      "cell_type": "code",
      "source": [
        "val_y[0]"
      ],
      "metadata": {
        "id": "u1vbD0oG9o6W",
        "outputId": "61c61afa-bbb4-4177-f5b3-bcf80beac421",
        "colab": {
          "base_uri": "https://localhost:8080/"
        }
      },
      "execution_count": null,
      "outputs": [
        {
          "output_type": "execute_result",
          "data": {
            "text/plain": [
              "array([0., 0., 1., 0., 0., 0., 0., 0., 0., 0.])"
            ]
          },
          "metadata": {},
          "execution_count": 60
        }
      ]
    },
    {
      "cell_type": "code",
      "source": [
        "model = KNeighborsClassifier(n_neighbors=29, metric='euclidean')\n",
        "model.fit(train_x, train_y)\n",
        "# evaluate the model and update the accuracies list\n",
        "score = model.score(val_x, val_y)\n",
        "print(\"k=%d, accuracy=%.2f%%\" % (29, score * 100))"
      ],
      "metadata": {
        "colab": {
          "base_uri": "https://localhost:8080/"
        },
        "id": "KtADWgTqxt6C",
        "outputId": "10dcce78-3e1d-4c59-e4f5-cdb3b5af8958"
      },
      "execution_count": null,
      "outputs": [
        {
          "output_type": "stream",
          "name": "stdout",
          "text": [
            "k=29, accuracy=80.73%\n"
          ]
        }
      ]
    }
  ],
  "metadata": {
    "kernelspec": {
      "display_name": "Python 3",
      "language": "python",
      "name": "python3"
    },
    "language_info": {
      "codemirror_mode": {
        "name": "ipython",
        "version": 3
      },
      "file_extension": ".py",
      "mimetype": "text/x-python",
      "name": "python",
      "nbconvert_exporter": "python",
      "pygments_lexer": "ipython3",
      "version": "3.7.3"
    },
    "colab": {
      "provenance": []
    }
  },
  "nbformat": 4,
  "nbformat_minor": 0
}